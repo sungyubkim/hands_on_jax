{
 "cells": [
  {
   "cell_type": "code",
   "execution_count": 1,
   "metadata": {},
   "outputs": [
    {
     "name": "stdout",
     "output_type": "stream",
     "text": [
      "# of GPUs : 8\n"
     ]
    },
    {
     "name": "stderr",
     "output_type": "stream",
     "text": [
      "/usr/local/lib/python3.8/dist-packages/chex/_src/pytypes.py:37: FutureWarning: jax.tree_structure is deprecated, and will be removed in a future release. Use jax.tree_util.tree_structure instead.\n",
      "  PyTreeDef = type(jax.tree_structure(None))\n",
      "/usr/lib/python3/dist-packages/requests/__init__.py:89: RequestsDependencyWarning: urllib3 (1.26.12) or chardet (3.0.4) doesn't match a supported version!\n",
      "  warnings.warn(\"urllib3 ({}) or chardet ({}) doesn't match a supported \"\n"
     ]
    }
   ],
   "source": [
    "import jax\n",
    "num_devices = jax.local_device_count()\n",
    "print(f'# of GPUs : {num_devices}')\n",
    "\n",
    "import haiku as hk\n",
    "import optax\n",
    "import numpy as np\n",
    "import jax.numpy as jnp\n",
    "from tqdm import tqdm\n",
    "from functools import partial\n",
    "from itertools import product\n",
    "from collections import OrderedDict\n",
    "\n",
    "# we import some helper function/classes\n",
    "import os\n",
    "import sys\n",
    "module_path = os.path.abspath(os.path.join('..'))\n",
    "if module_path not in sys.path:\n",
    "    sys.path.append(module_path)\n",
    "from utils import *\n",
    "from models.resnet import ResNet, Block\n",
    "from datasets.cifar import load_dataset\n",
    "\n",
    "import matplotlib.pyplot as plt"
   ]
  },
  {
   "cell_type": "code",
   "execution_count": 2,
   "metadata": {},
   "outputs": [
    {
     "name": "stdout",
     "output_type": "stream",
     "text": [
      "input : (1, 32, 32, 3)\n",
      "embedding : (1, 32, 32, 64)\n",
      "block_0_0 : (1, 32, 32, 64)\n",
      "block_0_1 : (1, 32, 32, 64)\n",
      "block_1_0 : (1, 16, 16, 128)\n",
      "block_1_1 : (1, 16, 16, 128)\n",
      "block_2_0 : (1, 8, 8, 256)\n",
      "block_2_1 : (1, 8, 8, 256)\n",
      "block_3_0 : (1, 4, 4, 512)\n",
      "block_3_1 : (1, 4, 4, 512)\n",
      "representation : (1, 512)\n",
      "classifier head : (1, 100)\n"
     ]
    }
   ],
   "source": [
    "NUM_CLASSES = 100\n",
    "NUM_EPOCH = 200\n",
    "NUM_TRAIN = 50000\n",
    "BATCH_SIZE = 1000\n",
    "WARMUP_RATIO = 0.1\n",
    "PEAK_LR = 0.4\n",
    "batch_dims = (num_devices, BATCH_SIZE//num_devices)\n",
    "\n",
    "rng = jax.random.PRNGKey(42)\n",
    "batch = jnp.zeros((1, 32, 32, 3), jnp.float32)\n",
    "net = partial(\n",
    "    ResNet,\n",
    "    name='ResNet_18',\n",
    "    stage_sizes=[2, 2, 2, 2],\n",
    "    num_filters=[64, 128, 256, 512],\n",
    "    strides=[1, 2, 2, 2],\n",
    "    block_cls=Block,\n",
    "    num_classes=NUM_CLASSES,\n",
    ")\n",
    "\n",
    "net = make_forward_with_state(net)\n",
    "params, state = net.init(rng, batch, train=True, print_shape=True)\n",
    "\n",
    "tx = optax.chain(\n",
    "    optax.clip_by_global_norm(1.0),\n",
    "    optax.sgd(learning_rate=create_lr_sched(NUM_EPOCH, NUM_TRAIN, BATCH_SIZE, WARMUP_RATIO, PEAK_LR), momentum=0.9)\n",
    "    )\n",
    "trainer = Trainer.create(\n",
    "    apply_fn=net.apply,\n",
    "    params=params,\n",
    "    state=state,\n",
    "    tx=tx,\n",
    ")"
   ]
  },
  {
   "cell_type": "code",
   "execution_count": 3,
   "metadata": {},
   "outputs": [],
   "source": [
    "WD_COEF = 0.0\n",
    "\n",
    "def loss_fn(params, trainer, batch, rng):\n",
    "    # state contains batch statistics\n",
    "    logit, state = trainer.apply_fn(params, trainer.state, rng, batch['x'], train=True)\n",
    "    log_prob = jax.nn.log_softmax(logit)\n",
    "    cross_entropy_loss = - (batch['y'] * log_prob).sum(axis=-1).mean()\n",
    "    \n",
    "    wd = (params_to_vec(params)**2).sum()\n",
    "    \n",
    "    loss = cross_entropy_loss + WD_COEF * wd\n",
    "    acc = (jnp.argmax(logit, axis=-1) == jnp.argmax(batch['y'], axis=-1)).astype(int).mean()\n",
    "    \n",
    "    return loss, (cross_entropy_loss, wd, acc, state)"
   ]
  },
  {
   "cell_type": "code",
   "execution_count": 4,
   "metadata": {},
   "outputs": [],
   "source": [
    "def opt_step(trainer, batch, rng):\n",
    "\n",
    "  grad_fn = jax.grad(loss_fn, has_aux=True)\n",
    "  grads, (loss, wd, acc, new_state) = grad_fn(\n",
    "      trainer.params,\n",
    "      trainer,\n",
    "      batch,\n",
    "      rng,\n",
    "  )\n",
    "\n",
    "  grad_norm = jnp.sqrt((params_to_vec(grads)**2).sum())\n",
    "  \n",
    "  grads = jax.lax.pmean(grads, axis_name='batch')\n",
    "  new_state = jax.lax.pmean(new_state, axis_name='batch')\n",
    "  trainer = trainer.apply_gradients(grads=grads, state=new_state)\n",
    "\n",
    "  log = OrderedDict([\n",
    "      ('loss', loss),\n",
    "      ('wd', wd),\n",
    "      ('acc', acc),\n",
    "      ('grad_norm', grad_norm),\n",
    "  ])\n",
    "  log = jax.lax.pmean(log, axis_name='batch')\n",
    "\n",
    "  return log, trainer"
   ]
  },
  {
   "cell_type": "code",
   "execution_count": 5,
   "metadata": {},
   "outputs": [],
   "source": [
    "# opt_step_pmapped = jax.pmap(opt_step, axis_name='batch')\n",
    "# trainer_replicated = replicate(trainer)\n",
    "\n",
    "# train_dataset = load_dataset(NUM_CLASSES, batch_dims)\n",
    "# test_dataset = list(load_dataset(NUM_CLASSES, batch_dims, False, False, False))\n",
    "\n",
    "# for epoch in range(1, NUM_EPOCH+1):\n",
    "    \n",
    "#     pbar = tqdm(range(NUM_TRAIN // BATCH_SIZE))\n",
    "#     for step in pbar:\n",
    "\n",
    "#         batch = next(train_dataset)\n",
    "#         rng, rng_ = jax.random.split(rng)\n",
    "#         log, trainer_replicated = opt_step_pmapped(trainer_replicated, batch, jax.random.split(rng_, num_devices))\n",
    "\n",
    "#         res = [('epoch', epoch)]\n",
    "#         for k, v in log.items():\n",
    "#             res.append((k, f'{np.mean(v):.4f}'))\n",
    "#         res = dict(res)\n",
    "#         pbar.set_postfix(res)\n",
    "        \n",
    "#     if (epoch % 10) == 0:\n",
    "#         acc_test = compute_acc_dataset(trainer_replicated, test_dataset)\n",
    "#         print(f'Epoch [{epoch}] Test Accuracy : {acc_test:.4f}')\n",
    "\n",
    "# trainer_without_wd = unreplicate(trainer_replicated)\n",
    "# save_ckpt(trainer_without_wd, f'./result/cifar{NUM_CLASSES}/renset_18_wo_wd')"
   ]
  },
  {
   "cell_type": "code",
   "execution_count": 6,
   "metadata": {},
   "outputs": [],
   "source": [
    "trainer_without_wd = load_ckpt(f'./result/cifar{NUM_CLASSES}/renset_18_wo_wd', trainer)\n",
    "\n",
    "trainer_with_wd = load_ckpt(f'../3_image_classification/result/cifar{NUM_CLASSES}/renset_18', trainer)"
   ]
  },
  {
   "cell_type": "code",
   "execution_count": null,
   "metadata": {},
   "outputs": [],
   "source": [
    "train_dataset = list(load_dataset(NUM_CLASSES, batch_dims, True, False, False))\n",
    "\n",
    "# loss landscape visualization without filter normalization\n",
    "for filter_normalized in [True, False]:\n",
    "    for wd in [True, False]:\n",
    "        \n",
    "        with_wd = 'with' if wd else 'without'\n",
    "        with_fn = 'with' if filter_normalized else 'without'\n",
    "        title = f'Loss landscape of NN {with_wd} WD {with_fn} filter normalization'\n",
    "        print(title)\n",
    "        \n",
    "        trainer = trainer_with_wd if wd else trainer_without_wd\n",
    "        loss_landscape_visualization(trainer, train_dataset, filter_normalized=filter_normalized, title=title)"
   ]
  },
  {
   "cell_type": "code",
   "execution_count": 7,
   "metadata": {},
   "outputs": [
    {
     "name": "stdout",
     "output_type": "stream",
     "text": [
      "Eigenspecturm of C-Hessian of NN with WD\n"
     ]
    },
    {
     "name": "stderr",
     "output_type": "stream",
     "text": [
      "  0%|          | 0/100 [00:00<?, ?it/s]2022-10-12 23:48:28.676266: W external/org_tensorflow/tensorflow/compiler/xla/service/gpu/gpu_conv_algorithm_picker.cc:727] None of the algorithms provided by cuDNN heuristics worked; trying fallback algorithms.  Conv: (f32[3,3,64,128]{1,0,2,3}, u8[0]{0}) custom-call(f32[125,32,32,64]{2,1,3,0}, f32[125,32,32,128]{2,1,3,0}), window={size=3x3 pad=1_1x1_1}, dim_labels=b01f_01io->b01f, custom_call_target=\"__cudnn$convBackwardFilter\", backend_config=\"{\\\"conv_result_scale\\\":1,\\\"activation_mode\\\":\\\"0\\\",\\\"side_input_scale\\\":0}\"\n",
      "2022-10-12 23:48:28.775927: W external/org_tensorflow/tensorflow/compiler/xla/service/gpu/gpu_conv_algorithm_picker.cc:727] None of the algorithms provided by cuDNN heuristics worked; trying fallback algorithms.  Conv: (f32[3,3,64,64]{1,0,2,3}, u8[0]{0}) custom-call(f32[125,32,32,64]{2,1,3,0}, f32[125,32,32,64]{2,1,3,0}), window={size=3x3 pad=1_1x1_1}, dim_labels=b01f_01io->b01f, custom_call_target=\"__cudnn$convBackwardFilter\", backend_config=\"{\\\"conv_result_scale\\\":1,\\\"activation_mode\\\":\\\"0\\\",\\\"side_input_scale\\\":0}\"\n",
      "2022-10-12 23:48:28.989235: W external/org_tensorflow/tensorflow/compiler/xla/service/gpu/gpu_conv_algorithm_picker.cc:727] None of the algorithms provided by cuDNN heuristics worked; trying fallback algorithms.  Conv: (f32[3,3,512,512]{1,0,2,3}, u8[0]{0}) custom-call(f32[125,9,9,512]{2,1,3,0}, f32[125,4,4,512]{2,1,3,0}), window={size=3x3 stride=2x2}, dim_labels=b01f_01io->b01f, custom_call_target=\"__cudnn$convBackwardFilter\", backend_config=\"{\\\"conv_result_scale\\\":1,\\\"activation_mode\\\":\\\"0\\\",\\\"side_input_scale\\\":0}\"\n",
      "2022-10-12 23:48:29.032295: W external/org_tensorflow/tensorflow/compiler/xla/service/gpu/gpu_conv_algorithm_picker.cc:727] None of the algorithms provided by cuDNN heuristics worked; trying fallback algorithms.  Conv: (f32[125,9,9,512]{2,1,3,0}, u8[0]{0}) custom-call(f32[125,4,4,512]{2,1,3,0}, f32[3,3,512,512]{1,0,2,3}), window={size=3x3 stride=2x2}, dim_labels=b01f_01io->b01f, custom_call_target=\"__cudnn$convBackwardInput\", backend_config=\"{\\\"conv_result_scale\\\":1,\\\"activation_mode\\\":\\\"0\\\",\\\"side_input_scale\\\":0}\"\n",
      "2022-10-12 23:48:29.154318: W external/org_tensorflow/tensorflow/compiler/xla/service/gpu/gpu_conv_algorithm_picker.cc:727] None of the algorithms provided by cuDNN heuristics worked; trying fallback algorithms.  Conv: (f32[3,3,256,256]{1,0,2,3}, u8[0]{0}) custom-call(f32[125,17,17,256]{2,1,3,0}, f32[125,8,8,256]{2,1,3,0}), window={size=3x3 stride=2x2}, dim_labels=b01f_01io->b01f, custom_call_target=\"__cudnn$convBackwardFilter\", backend_config=\"{\\\"conv_result_scale\\\":1,\\\"activation_mode\\\":\\\"0\\\",\\\"side_input_scale\\\":0}\"\n",
      "100%|██████████| 100/100 [06:52<00:00,  4.13s/it]\n"
     ]
    },
    {
     "data": {
      "image/png": "[encoded data removed]",
      "text/plain": [
       "<Figure size 400x300 with 1 Axes>"
      ]
     },
     "metadata": {},
     "output_type": "display_data"
    },
    {
     "name": "stdout",
     "output_type": "stream",
     "text": [
      "Eigenspecturm of C-Hessian of NN without WD\n"
     ]
    },
    {
     "name": "stderr",
     "output_type": "stream",
     "text": [
      "100%|██████████| 100/100 [06:29<00:00,  3.90s/it]\n"
     ]
    },
    {
     "data": {
      "image/png": "[encoded data removed]",
      "text/plain": [
       "<Figure size 400x300 with 1 Axes>"
      ]
     },
     "metadata": {},
     "output_type": "display_data"
    },
    {
     "name": "stdout",
     "output_type": "stream",
     "text": [
      "Eigenspecturm of Hessian of NN with WD\n"
     ]
    },
    {
     "name": "stderr",
     "output_type": "stream",
     "text": [
      " 42%|████▏     | 42/100 [01:29<03:05,  3.20s/it]"
     ]
    }
   ],
   "source": [
    "train_dataset = list(load_dataset(NUM_CLASSES, batch_dims, True, False, False))\n",
    "\n",
    "# Hessian eigenspectrum visualization\n",
    "for use_connect in [True, False]:\n",
    "    for wd in [True, False]:\n",
    "\n",
    "        with_wd = 'with' if wd else 'without'\n",
    "        hess = 'C-Hessian' if use_connect else 'Hessian'\n",
    "        title = f'Eigenspecturm of {hess} of NN {with_wd} WD'\n",
    "        print(title)\n",
    "        \n",
    "        trainer = trainer_with_wd if wd else trainer_without_wd\n",
    "        visualize_eigenspectrum(trainer, train_dataset, use_batch=True, use_connect=use_connect, title=title)"
   ]
  }
 ],
 "metadata": {
  "kernelspec": {
   "display_name": "Python 3.8.10 64-bit",
   "language": "python",
   "name": "python3"
  },
  "language_info": {
   "codemirror_mode": {
    "name": "ipython",
    "version": 3
   },
   "file_extension": ".py",
   "mimetype": "text/x-python",
   "name": "python",
   "nbconvert_exporter": "python",
   "pygments_lexer": "ipython3",
   "version": "3.8.10"
  },
  "orig_nbformat": 4,
  "vscode": {
   "interpreter": {
    "hash": "e7370f93d1d0cde622a1f8e1c04877d8463912d04d973331ad4851f04de6915a"
   }
  }
 },
 "nbformat": 4,
 "nbformat_minor": 2
}

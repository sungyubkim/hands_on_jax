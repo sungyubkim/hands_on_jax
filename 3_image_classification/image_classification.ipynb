{
 "cells": [
  {
   "cell_type": "markdown",
   "metadata": {},
   "source": [
    "# Import packages"
   ]
  },
  {
   "cell_type": "code",
   "execution_count": 1,
   "metadata": {},
   "outputs": [
    {
     "name": "stdout",
     "output_type": "stream",
     "text": [
      "# of GPUs : 8\n"
     ]
    },
    {
     "name": "stderr",
     "output_type": "stream",
     "text": [
      "/usr/local/lib/python3.8/dist-packages/chex/_src/pytypes.py:37: FutureWarning: jax.tree_structure is deprecated, and will be removed in a future release. Use jax.tree_util.tree_structure instead.\n",
      "  PyTreeDef = type(jax.tree_structure(None))\n",
      "/usr/lib/python3/dist-packages/requests/__init__.py:89: RequestsDependencyWarning: urllib3 (1.26.12) or chardet (3.0.4) doesn't match a supported version!\n",
      "  warnings.warn(\"urllib3 ({}) or chardet ({}) doesn't match a supported \"\n"
     ]
    }
   ],
   "source": [
    "import jax\n",
    "num_devices = jax.local_device_count()\n",
    "print(f'# of GPUs : {num_devices}')\n",
    "\n",
    "import haiku as hk\n",
    "import optax\n",
    "import numpy as np\n",
    "import jax.numpy as jnp\n",
    "from tqdm import tqdm\n",
    "from functools import partial\n",
    "from collections import OrderedDict\n",
    "from dataclasses import dataclass\n",
    "\n",
    "# we import some helper function/classes\n",
    "import os\n",
    "import sys\n",
    "module_path = os.path.abspath(os.path.join('..'))\n",
    "if module_path not in sys.path:\n",
    "    sys.path.append(module_path)\n",
    "from utils import Trainer, params_to_vec, make_forward_with_state, replicate, unreplicate\n",
    "\n",
    "import matplotlib.pyplot as plt\n",
    "plt.style.use('ggplot')\n",
    "plt.rcParams['figure.figsize'] = (4, 3)\n",
    "plt.rcParams['xtick.labelsize'] = 8\n",
    "plt.rcParams['ytick.labelsize'] = 8"
   ]
  },
  {
   "cell_type": "markdown",
   "metadata": {},
   "source": [
    "# Deinfe hyperparameters"
   ]
  },
  {
   "cell_type": "code",
   "execution_count": 2,
   "metadata": {},
   "outputs": [
    {
     "data": {
      "image/png": "[encoded data removed]",
      "text/plain": [
       "<Figure size 400x300 with 1 Axes>"
      ]
     },
     "metadata": {},
     "output_type": "display_data"
    }
   ],
   "source": [
    "NUM_CLASSES = 100\n",
    "NUM_EPOCH = 200\n",
    "NUM_TRAIN = 50000\n",
    "BATCH_SIZE = 1000\n",
    "WARMUP_RATIO = 0.1\n",
    "PEAK_LR = 0.4\n",
    "\n",
    "\n",
    "def create_lr_sched():\n",
    "    total_step = NUM_EPOCH * (NUM_TRAIN // BATCH_SIZE)\n",
    "    warmup_step = int(total_step * WARMUP_RATIO)\n",
    "    return optax.warmup_cosine_decay_schedule(0.0, PEAK_LR, warmup_step, total_step, 0.0)\n",
    "\n",
    "lr_sched = create_lr_sched()\n",
    "step = np.arange(NUM_EPOCH * (NUM_TRAIN // BATCH_SIZE))\n",
    "lr = lr_sched(step)\n",
    "plt.plot(step, lr)\n",
    "plt.xlabel('step')\n",
    "plt.ylabel('learning rate')\n",
    "plt.title('Cosine annealing with linear warmup')\n",
    "plt.show()"
   ]
  },
  {
   "cell_type": "markdown",
   "metadata": {},
   "source": [
    "# Define ResNet"
   ]
  },
  {
   "cell_type": "code",
   "execution_count": 3,
   "metadata": {},
   "outputs": [],
   "source": [
    "from typing import Any, Callable, Tuple, Sequence\n",
    "\n",
    "ModuleType = Any\n",
    "\n",
    "@dataclass\n",
    "class Block(hk.Module):\n",
    "    name : str\n",
    "    conv : ModuleType\n",
    "    norm : ModuleType\n",
    "    act : Callable\n",
    "    filters : int\n",
    "    stride : int = 1\n",
    "    \n",
    "    def __call__(self, x, train):\n",
    "        y = x\n",
    "        y = self.norm(name=f'{self.name}_norm_0')(y, train)\n",
    "        y = self.act(y)\n",
    "        y = self.conv(output_channels=self.filters, kernel_shape=3, name=f'{self.name}_conv_0')(y)\n",
    "        y = self.norm(name=f'{self.name}_norm_1')(y, train)\n",
    "        y = self.act(y)\n",
    "        y = self.conv(output_channels=self.filters, kernel_shape=3, stride=self.stride, name=f'{self.name}_conv_1')(y)\n",
    "        \n",
    "        if x.shape != y.shape:\n",
    "            x = self.conv(output_channels=self.filters, kernel_shape=1, stride=self.stride, name=f'{self.name}_shorcut')(x)\n",
    "        \n",
    "        return x + y\n",
    "    \n",
    "@dataclass\n",
    "class Bottleneck(hk.Module):\n",
    "    name : str\n",
    "    conv : ModuleType\n",
    "    norm : ModuleType\n",
    "    act : Callable\n",
    "    filters : int\n",
    "    stride : int = 1\n",
    "    \n",
    "    def __call__(self, x, train):\n",
    "        y = x\n",
    "        y = self.norm(name=f'{self.name}_norm_0')(y, train)\n",
    "        y = self.act(y)\n",
    "        y = self.conv(output_channels=self.filters, kernel_shape=1, name=f'{self.name}_conv_0')(y)\n",
    "        y = self.norm(name=f'{self.name}_norm_1')(y, train)\n",
    "        y = self.act(y)\n",
    "        y = self.conv(output_channels=self.filters, kernel_shape=3, stride=self.stride, name=f'{self.name}_conv_1')(y)\n",
    "        y = self.norm(name=f'{self.name}_norm_2')(y, train)\n",
    "        y = self.act(y)\n",
    "        y = self.conv(output_channels=self.filters * 4, kernel_shape=1, name=f'{self.name}_conv_2')(y)\n",
    "        \n",
    "        if x.shape != y.shape:\n",
    "            x = self.conv(output_channels=self.filters * 4, kernel_shape=1, stride=self.stride, name=f'{self.name}_shorcut')(x)\n",
    "        \n",
    "        return x + y\n",
    "    \n",
    "@dataclass\n",
    "class ResNet(hk.Module):\n",
    "    name : str\n",
    "    block_cls : ModuleType\n",
    "    stage_sizes : Sequence[int]\n",
    "    num_filters : Sequence[int]\n",
    "    strides : Sequence[int]\n",
    "    num_classes : int\n",
    "    act : Callable = jax.nn.relu\n",
    "    \n",
    "    def __call__(self, x, train=True, print_shape=False):\n",
    "        conv = partial(\n",
    "            hk.Conv2D,\n",
    "            with_bias=False,\n",
    "        )\n",
    "        norm = partial(\n",
    "            hk.BatchNorm,\n",
    "            create_scale=True,\n",
    "            create_offset=True,\n",
    "            decay_rate=0.9,\n",
    "            eps=1e-5,\n",
    "        )\n",
    "        \n",
    "        if print_shape:\n",
    "            print(f'input : {x.shape}')\n",
    "        x = conv(\n",
    "            output_channels=64,\n",
    "            kernel_shape=3,\n",
    "            stride=1,\n",
    "            name=f'{self.name}_embedding',\n",
    "        )(x)\n",
    "        if print_shape:\n",
    "            print(f'embedding : {x.shape}')\n",
    "        \n",
    "        for i, block_size in enumerate(self.stage_sizes):\n",
    "            for j in range(block_size):\n",
    "                # only the first block of block_group follows stride\n",
    "                # other blocks are stride 1.\n",
    "                stride = (1 if (j > 0) else self.strides[i])\n",
    "                x = self.block_cls(\n",
    "                    name=f'block_{i}_{j}',\n",
    "                    conv=conv,\n",
    "                    norm=norm,\n",
    "                    filters=self.num_filters[i],\n",
    "                    stride=stride,\n",
    "                    act=self.act\n",
    "                    )(x, train)\n",
    "                if print_shape:\n",
    "                    print(f'block_{i}_{j} : {x.shape}')\n",
    "        \n",
    "        x = norm(name=f'{self.name}_final_norm')(x, train)\n",
    "        x = self.act(x)\n",
    "        x = x.mean(axis=(1,2))\n",
    "        if print_shape:\n",
    "            print(f'representation : {x.shape}')\n",
    "        x = hk.Linear(self.num_classes, name=f'{self.name}_head')(x)\n",
    "        if print_shape:\n",
    "            print(f'classifier head : {x.shape}')\n",
    "        return x"
   ]
  },
  {
   "cell_type": "code",
   "execution_count": 4,
   "metadata": {},
   "outputs": [
    {
     "name": "stdout",
     "output_type": "stream",
     "text": [
      "input : (1, 32, 32, 3)\n",
      "embedding : (1, 32, 32, 64)\n",
      "block_0_0 : (1, 32, 32, 64)\n",
      "block_0_1 : (1, 32, 32, 64)\n",
      "block_1_0 : (1, 16, 16, 128)\n",
      "block_1_1 : (1, 16, 16, 128)\n",
      "block_2_0 : (1, 8, 8, 256)\n",
      "block_2_1 : (1, 8, 8, 256)\n",
      "block_3_0 : (1, 4, 4, 512)\n",
      "block_3_1 : (1, 4, 4, 512)\n",
      "representation : (1, 512)\n",
      "classifier head : (1, 100)\n"
     ]
    }
   ],
   "source": [
    "rng = jax.random.PRNGKey(42)\n",
    "batch = jnp.zeros((1, 32, 32, 3), jnp.float32)\n",
    "net = partial(\n",
    "    ResNet,\n",
    "    name='ResNet_18',\n",
    "    stage_sizes=[2, 2, 2, 2],\n",
    "    num_filters=[64, 128, 256, 512],\n",
    "    strides=[1, 2, 2, 2],\n",
    "    block_cls=Block,\n",
    "    num_classes=NUM_CLASSES,\n",
    ")\n",
    "# net = partial(\n",
    "#     ResNet,\n",
    "#     name='ResNet_50',\n",
    "#     block_cls=Bottleneck,\n",
    "#     stage_sizes=[3, 4, 6, 3],\n",
    "#     num_filters=[64, 128, 256, 512],\n",
    "#     strides=[1, 2, 2, 2],\n",
    "#     num_classes=NUM_CLASSES,\n",
    "# )\n",
    "net = make_forward_with_state(net)\n",
    "params, state = net.init(rng, batch, train=True, print_shape=True)\n",
    "\n",
    "tx = optax.chain(\n",
    "    optax.clip_by_global_norm(1.0),\n",
    "    optax.sgd(learning_rate=create_lr_sched(), momentum=0.9)\n",
    "    )\n",
    "trainer = Trainer.create(\n",
    "    apply_fn=net.apply,\n",
    "    params=params,\n",
    "    state=state,\n",
    "    tx=tx,\n",
    ")"
   ]
  },
  {
   "cell_type": "code",
   "execution_count": 5,
   "metadata": {},
   "outputs": [],
   "source": [
    "WD_COEF = 5e-4\n",
    "\n",
    "def loss_fn(params, trainer, batch, rng):\n",
    "    # state contains batch statistics\n",
    "    logit, state = trainer.apply_fn(params, trainer.state, rng, batch['x'], train=True)\n",
    "    log_prob = jax.nn.log_softmax(logit)\n",
    "    cross_entropy_loss = - (batch['y'] * log_prob).sum(axis=-1).mean()\n",
    "    \n",
    "    wd = (params_to_vec(params)**2).sum()\n",
    "    \n",
    "    loss = cross_entropy_loss + WD_COEF * wd\n",
    "    acc = (jnp.argmax(logit, axis=-1) == jnp.argmax(batch['y'], axis=-1)).astype(int).mean()\n",
    "    \n",
    "    return loss, (cross_entropy_loss, wd, acc, state)"
   ]
  },
  {
   "cell_type": "code",
   "execution_count": 6,
   "metadata": {},
   "outputs": [],
   "source": [
    "def opt_step(trainer, batch, rng):\n",
    "\n",
    "  grad_fn = jax.grad(loss_fn, has_aux=True)\n",
    "  grads, (loss, wd, acc, new_state) = grad_fn(\n",
    "      trainer.params,\n",
    "      trainer,\n",
    "      batch,\n",
    "      rng,\n",
    "  )\n",
    "\n",
    "  grad_norm = jnp.sqrt((params_to_vec(grads)**2).sum())\n",
    "  \n",
    "  grads = jax.lax.pmean(grads, axis_name='batch')\n",
    "  new_state = jax.lax.pmean(new_state, axis_name='batch')\n",
    "  trainer = trainer.apply_gradients(grads=grads, state=new_state)\n",
    "\n",
    "  log = OrderedDict([\n",
    "      ('loss', loss),\n",
    "      ('wd', wd),\n",
    "      ('acc', acc),\n",
    "      ('grad_norm', grad_norm),\n",
    "  ])\n",
    "  log = jax.lax.pmean(log, axis_name='batch')\n",
    "\n",
    "  return log, trainer"
   ]
  },
  {
   "cell_type": "code",
   "execution_count": 7,
   "metadata": {},
   "outputs": [],
   "source": [
    "import tensorflow as tf\n",
    "tf.config.experimental.set_visible_devices([], 'GPU')\n",
    "import tensorflow_datasets as tfds\n",
    "\n",
    "IMG_MEAN = (0.5, 0.5, 0.5)\n",
    "IMG_STD = (0.2, 0.2, 0.2)\n",
    "\n",
    "def load_dataset(batch_dims, train=True, shuffle=True, repeat=True):\n",
    "    total_batch_size = np.prod(batch_dims)\n",
    "    \n",
    "    if train:\n",
    "        ds = tfds.load(\n",
    "            f'cifar{NUM_CLASSES}',\n",
    "            data_dir='../../tensorflow_datasets/',\n",
    "            split='train',\n",
    "        )\n",
    "    else:\n",
    "        ds = tfds.load(\n",
    "            f'cifar{NUM_CLASSES}',\n",
    "            data_dir='../../tensorflow_datasets/',\n",
    "            split='test',\n",
    "        )\n",
    "        \n",
    "    def preprocess(sample):\n",
    "        img = tf.cast(sample['image'], tf.float32) / 255.0\n",
    "        img -= tf.constant(IMG_MEAN, shape=(1,1,3))\n",
    "        img /= tf.constant(IMG_STD, shape=(1,1,3))\n",
    "        label = tf.one_hot(sample['label'], NUM_CLASSES)\n",
    "        return {'x':img, 'y':label}\n",
    "    \n",
    "    ds = ds.map(preprocess, num_parallel_calls=tf.data.AUTOTUNE)\n",
    "    \n",
    "    if shuffle:\n",
    "        ds = ds.shuffle(NUM_TRAIN)\n",
    "    if repeat:\n",
    "        ds = ds.repeat()\n",
    "        \n",
    "    def aug(sample):\n",
    "        img = sample['x']\n",
    "        img = tf.image.random_flip_left_right(img)\n",
    "        img = tf.pad(img, [[4,4], [4,4], [0,0]], mode='REFLECT')\n",
    "        img = tf.image.random_crop(img, (32, 32, 3))\n",
    "        return {'x':img, 'y':sample['y']}\n",
    "    \n",
    "    if train:\n",
    "        ds = ds.map(aug, num_parallel_calls=tf.data.AUTOTUNE)\n",
    "        \n",
    "    ds = ds.batch(total_batch_size, drop_remainder=True)\n",
    "    \n",
    "    def batch_reshape(batch):\n",
    "        for k,v in batch.items():\n",
    "            batch[k] = tf.reshape(v, batch_dims+v.shape[1:])\n",
    "        return batch\n",
    "    \n",
    "    ds = ds.map(batch_reshape, num_parallel_calls=tf.data.AUTOTUNE)\n",
    "    ds = ds.prefetch(tf.data.AUTOTUNE)\n",
    "    \n",
    "    yield from tfds.as_numpy(ds)"
   ]
  },
  {
   "cell_type": "code",
   "execution_count": 8,
   "metadata": {},
   "outputs": [],
   "source": [
    "train_dataset = load_dataset((num_devices, BATCH_SIZE//num_devices))\n",
    "test_dataset = load_dataset((num_devices, BATCH_SIZE//num_devices), False, False, False)\n",
    "test_dataset = list(test_dataset)"
   ]
  },
  {
   "cell_type": "code",
   "execution_count": 9,
   "metadata": {},
   "outputs": [
    {
     "name": "stdout",
     "output_type": "stream",
     "text": [
      "# of batches for test dataset : 10\n",
      "Shape of batch : (8, 125, 32, 32, 3)\n"
     ]
    }
   ],
   "source": [
    "print(f'# of batches for test dataset : {len(test_dataset)}')\n",
    "shape = test_dataset[0]['x'].shape\n",
    "print(f'Shape of batch : {shape}')"
   ]
  },
  {
   "cell_type": "code",
   "execution_count": 10,
   "metadata": {},
   "outputs": [],
   "source": [
    "def compute_acc_batch(trainer, batch):\n",
    "    \n",
    "    logit, state = trainer.apply_fn(trainer.params, trainer.state, None, batch['x'], train=False)\n",
    "    \n",
    "    acc = (jnp.argmax(logit, axis=-1) == jnp.argmax(batch['y'], axis=-1)).astype(int).mean()\n",
    "    \n",
    "    return acc\n",
    "\n",
    "compute_acc_batch_pmapped = jax.pmap(compute_acc_batch, axis_name='batch')\n",
    "\n",
    "def compute_acc_dataset(trainer, dataset):\n",
    "    acc = 0\n",
    "    for batch in dataset:\n",
    "        acc_batch = compute_acc_batch_pmapped(trainer, batch)\n",
    "        acc += np.mean(acc_batch)\n",
    "    acc /= len(dataset)\n",
    "    return acc"
   ]
  },
  {
   "cell_type": "code",
   "execution_count": 11,
   "metadata": {},
   "outputs": [],
   "source": [
    "opt_step_pmapped = jax.pmap(opt_step, axis_name='batch')\n",
    "trainer_replicated = replicate(trainer)"
   ]
  },
  {
   "cell_type": "code",
   "execution_count": 12,
   "metadata": {},
   "outputs": [
    {
     "name": "stderr",
     "output_type": "stream",
     "text": [
      "  0%|          | 0/50 [00:00<?, ?it/s]2022-10-12 13:30:09.428616: W external/org_tensorflow/tensorflow/compiler/xla/service/gpu/gpu_conv_algorithm_picker.cc:727] None of the algorithms provided by cuDNN heuristics worked; trying fallback algorithms.  Conv: (f32[3,3,64,128]{1,0,2,3}, u8[0]{0}) custom-call(f32[125,32,32,64]{2,1,3,0}, f32[125,32,32,128]{2,1,3,0}), window={size=3x3 pad=1_1x1_1}, dim_labels=b01f_01io->b01f, custom_call_target=\"__cudnn$convBackwardFilter\", backend_config=\"{\\\"conv_result_scale\\\":1,\\\"activation_mode\\\":\\\"0\\\",\\\"side_input_scale\\\":0}\"\n",
      "2022-10-12 13:30:09.545479: W external/org_tensorflow/tensorflow/compiler/xla/service/gpu/gpu_conv_algorithm_picker.cc:727] None of the algorithms provided by cuDNN heuristics worked; trying fallback algorithms.  Conv: (f32[3,3,64,64]{1,0,2,3}, u8[0]{0}) custom-call(f32[125,32,32,64]{2,1,3,0}, f32[125,32,32,64]{2,1,3,0}), window={size=3x3 pad=1_1x1_1}, dim_labels=b01f_01io->b01f, custom_call_target=\"__cudnn$convBackwardFilter\", backend_config=\"{\\\"conv_result_scale\\\":1,\\\"activation_mode\\\":\\\"0\\\",\\\"side_input_scale\\\":0}\"\n",
      "2022-10-12 13:30:09.714610: W external/org_tensorflow/tensorflow/compiler/xla/service/gpu/gpu_conv_algorithm_picker.cc:727] None of the algorithms provided by cuDNN heuristics worked; trying fallback algorithms.  Conv: (f32[3,3,512,512]{1,0,2,3}, u8[0]{0}) custom-call(f32[125,9,9,512]{2,1,3,0}, f32[125,4,4,512]{2,1,3,0}), window={size=3x3 stride=2x2}, dim_labels=b01f_01io->b01f, custom_call_target=\"__cudnn$convBackwardFilter\", backend_config=\"{\\\"conv_result_scale\\\":1,\\\"activation_mode\\\":\\\"0\\\",\\\"side_input_scale\\\":0}\"\n",
      "2022-10-12 13:30:09.757690: W external/org_tensorflow/tensorflow/compiler/xla/service/gpu/gpu_conv_algorithm_picker.cc:727] None of the algorithms provided by cuDNN heuristics worked; trying fallback algorithms.  Conv: (f32[125,9,9,512]{2,1,3,0}, u8[0]{0}) custom-call(f32[125,4,4,512]{2,1,3,0}, f32[3,3,512,512]{1,0,2,3}), window={size=3x3 stride=2x2}, dim_labels=b01f_01io->b01f, custom_call_target=\"__cudnn$convBackwardInput\", backend_config=\"{\\\"conv_result_scale\\\":1,\\\"activation_mode\\\":\\\"0\\\",\\\"side_input_scale\\\":0}\"\n",
      "2022-10-12 13:30:09.883214: W external/org_tensorflow/tensorflow/compiler/xla/service/gpu/gpu_conv_algorithm_picker.cc:727] None of the algorithms provided by cuDNN heuristics worked; trying fallback algorithms.  Conv: (f32[3,3,256,256]{1,0,2,3}, u8[0]{0}) custom-call(f32[125,17,17,256]{2,1,3,0}, f32[125,8,8,256]{2,1,3,0}), window={size=3x3 stride=2x2}, dim_labels=b01f_01io->b01f, custom_call_target=\"__cudnn$convBackwardFilter\", backend_config=\"{\\\"conv_result_scale\\\":1,\\\"activation_mode\\\":\\\"0\\\",\\\"side_input_scale\\\":0}\"\n",
      "2022-10-12 13:30:23.782808: E external/org_tensorflow/tensorflow/compiler/xla/service/rendezvous.cc:31] This thread has been waiting for 10 seconds and may be stuck:\n",
      "2022-10-12 13:30:27.900512: E external/org_tensorflow/tensorflow/compiler/xla/service/rendezvous.cc:36] Thread is unstuck! Warning above was a false-positive. Perhaps the timeout is too short.\n",
      "100%|██████████| 50/50 [00:42<00:00,  1.19it/s, epoch=1, loss=4.0700, wd=7628.1099, acc=0.0950, grad_norm=2.0530]\n",
      "100%|██████████| 50/50 [00:05<00:00,  8.89it/s, epoch=2, loss=3.7102, wd=7424.4214, acc=0.1250, grad_norm=2.6098]\n",
      "100%|██████████| 50/50 [00:05<00:00,  9.01it/s, epoch=3, loss=3.3235, wd=7170.3560, acc=0.1780, grad_norm=3.0712]\n",
      "100%|██████████| 50/50 [00:05<00:00,  9.06it/s, epoch=4, loss=3.0951, wd=6923.4258, acc=0.2550, grad_norm=4.0574]\n",
      "100%|██████████| 50/50 [00:05<00:00,  9.03it/s, epoch=5, loss=2.8041, wd=6673.6646, acc=0.3020, grad_norm=4.5282]\n",
      "100%|██████████| 50/50 [00:05<00:00,  9.01it/s, epoch=6, loss=2.5262, wd=6410.4487, acc=0.3550, grad_norm=3.9320]\n",
      "100%|██████████| 50/50 [00:05<00:00,  9.05it/s, epoch=7, loss=2.4082, wd=6112.9883, acc=0.3670, grad_norm=4.1952]\n",
      "100%|██████████| 50/50 [00:05<00:00,  8.98it/s, epoch=8, loss=2.1743, wd=5782.3481, acc=0.4190, grad_norm=4.1901]\n",
      "100%|██████████| 50/50 [00:05<00:00,  9.05it/s, epoch=9, loss=2.0676, wd=5430.5293, acc=0.4510, grad_norm=4.1770]\n",
      "100%|██████████| 50/50 [00:05<00:00,  8.97it/s, epoch=10, loss=1.8762, wd=5053.6870, acc=0.5040, grad_norm=3.9554]\n"
     ]
    },
    {
     "name": "stdout",
     "output_type": "stream",
     "text": [
      "Epoch [10] Test Accuracy : 0.3890\n"
     ]
    },
    {
     "name": "stderr",
     "output_type": "stream",
     "text": [
      "100%|██████████| 50/50 [00:05<00:00,  9.06it/s, epoch=11, loss=1.7737, wd=4662.2520, acc=0.4920, grad_norm=4.1267]\n",
      "100%|██████████| 50/50 [00:05<00:00,  9.02it/s, epoch=12, loss=1.7592, wd=4276.6978, acc=0.5120, grad_norm=3.8700]\n",
      "100%|██████████| 50/50 [00:05<00:00,  9.00it/s, epoch=13, loss=1.5827, wd=3900.0037, acc=0.5500, grad_norm=3.5526]\n",
      "100%|██████████| 50/50 [00:05<00:00,  8.95it/s, epoch=14, loss=1.5605, wd=3539.7617, acc=0.5610, grad_norm=3.3970]\n",
      "100%|██████████| 50/50 [00:05<00:00,  8.96it/s, epoch=15, loss=1.5332, wd=3211.3201, acc=0.5600, grad_norm=3.4098]\n",
      "100%|██████████| 50/50 [00:05<00:00,  8.99it/s, epoch=16, loss=1.5760, wd=2926.8867, acc=0.5570, grad_norm=3.2651]\n",
      "100%|██████████| 50/50 [00:05<00:00,  9.05it/s, epoch=17, loss=1.4135, wd=2691.3767, acc=0.5890, grad_norm=3.2108]\n",
      "100%|██████████| 50/50 [00:05<00:00,  8.94it/s, epoch=18, loss=1.3376, wd=2497.6221, acc=0.6220, grad_norm=3.1715]\n",
      "100%|██████████| 50/50 [00:05<00:00,  9.01it/s, epoch=19, loss=1.4139, wd=2365.0859, acc=0.6030, grad_norm=3.2577]\n",
      "100%|██████████| 50/50 [00:05<00:00,  8.95it/s, epoch=20, loss=1.3990, wd=2287.3889, acc=0.6150, grad_norm=3.2870]\n"
     ]
    },
    {
     "name": "stdout",
     "output_type": "stream",
     "text": [
      "Epoch [20] Test Accuracy : 0.4792\n"
     ]
    },
    {
     "name": "stderr",
     "output_type": "stream",
     "text": [
      "100%|██████████| 50/50 [00:05<00:00,  8.99it/s, epoch=21, loss=1.3465, wd=2232.4727, acc=0.6200, grad_norm=3.2986]\n",
      "100%|██████████| 50/50 [00:05<00:00,  9.01it/s, epoch=22, loss=1.3195, wd=2193.2412, acc=0.6240, grad_norm=3.2868]\n",
      "100%|██████████| 50/50 [00:05<00:00,  9.01it/s, epoch=23, loss=1.2137, wd=2170.3594, acc=0.6550, grad_norm=3.2481]\n",
      "100%|██████████| 50/50 [00:05<00:00,  9.00it/s, epoch=24, loss=1.2600, wd=2153.2317, acc=0.6420, grad_norm=3.3433]\n",
      "100%|██████████| 50/50 [00:05<00:00,  8.97it/s, epoch=25, loss=1.2639, wd=2150.9773, acc=0.6340, grad_norm=3.4450]\n",
      "100%|██████████| 50/50 [00:05<00:00,  8.66it/s, epoch=26, loss=1.1227, wd=2145.8752, acc=0.6730, grad_norm=3.2619]\n",
      "100%|██████████| 50/50 [00:05<00:00,  8.95it/s, epoch=27, loss=1.1893, wd=2151.3557, acc=0.6580, grad_norm=3.3928]\n",
      "100%|██████████| 50/50 [00:05<00:00,  8.94it/s, epoch=28, loss=1.2457, wd=2153.8997, acc=0.6310, grad_norm=3.6859]\n",
      "100%|██████████| 50/50 [00:05<00:00,  8.96it/s, epoch=29, loss=1.2098, wd=2166.2874, acc=0.6380, grad_norm=3.5757]\n",
      "100%|██████████| 50/50 [00:05<00:00,  8.92it/s, epoch=30, loss=1.1385, wd=2180.7756, acc=0.6800, grad_norm=3.4463]\n"
     ]
    },
    {
     "name": "stdout",
     "output_type": "stream",
     "text": [
      "Epoch [30] Test Accuracy : 0.5297\n"
     ]
    },
    {
     "name": "stderr",
     "output_type": "stream",
     "text": [
      "100%|██████████| 50/50 [00:05<00:00,  8.92it/s, epoch=31, loss=1.0441, wd=2196.4944, acc=0.7090, grad_norm=3.3273]\n",
      "100%|██████████| 50/50 [00:05<00:00,  8.97it/s, epoch=32, loss=1.1677, wd=2210.0225, acc=0.6540, grad_norm=3.7095]\n",
      "100%|██████████| 50/50 [00:05<00:00,  8.97it/s, epoch=33, loss=1.1587, wd=2222.3000, acc=0.6760, grad_norm=3.6407]\n",
      "100%|██████████| 50/50 [00:05<00:00,  8.97it/s, epoch=34, loss=1.0907, wd=2230.7053, acc=0.6900, grad_norm=3.4679]\n",
      "100%|██████████| 50/50 [00:05<00:00,  9.00it/s, epoch=35, loss=1.1158, wd=2237.0686, acc=0.6850, grad_norm=3.6580]\n",
      "100%|██████████| 50/50 [00:05<00:00,  8.97it/s, epoch=36, loss=1.0553, wd=2250.3079, acc=0.6960, grad_norm=3.5755]\n",
      "100%|██████████| 50/50 [00:05<00:00,  9.02it/s, epoch=37, loss=1.1107, wd=2261.8789, acc=0.6780, grad_norm=3.7115]\n",
      "100%|██████████| 50/50 [00:05<00:00,  9.00it/s, epoch=38, loss=1.0005, wd=2273.2009, acc=0.7210, grad_norm=3.5888]\n",
      "100%|██████████| 50/50 [00:05<00:00,  9.01it/s, epoch=39, loss=1.1333, wd=2282.7910, acc=0.6800, grad_norm=4.1015]\n",
      "100%|██████████| 50/50 [00:05<00:00,  8.96it/s, epoch=40, loss=1.0616, wd=2291.2158, acc=0.6950, grad_norm=3.9415]\n"
     ]
    },
    {
     "name": "stdout",
     "output_type": "stream",
     "text": [
      "Epoch [40] Test Accuracy : 0.5072\n"
     ]
    },
    {
     "name": "stderr",
     "output_type": "stream",
     "text": [
      "100%|██████████| 50/50 [00:05<00:00,  8.90it/s, epoch=41, loss=0.9899, wd=2301.7263, acc=0.7110, grad_norm=3.6448]\n",
      "100%|██████████| 50/50 [00:05<00:00,  9.00it/s, epoch=42, loss=1.0012, wd=2307.8826, acc=0.7100, grad_norm=3.6557]\n",
      "100%|██████████| 50/50 [00:05<00:00,  9.02it/s, epoch=43, loss=1.0821, wd=2319.1833, acc=0.6860, grad_norm=4.0329]\n",
      "100%|██████████| 50/50 [00:05<00:00,  8.98it/s, epoch=44, loss=0.9523, wd=2319.7939, acc=0.7230, grad_norm=3.6416]\n",
      "100%|██████████| 50/50 [00:05<00:00,  8.98it/s, epoch=45, loss=0.8696, wd=2323.9932, acc=0.7470, grad_norm=3.5191]\n",
      "100%|██████████| 50/50 [00:05<00:00,  8.99it/s, epoch=46, loss=0.9353, wd=2326.2932, acc=0.7210, grad_norm=3.8212]\n",
      "100%|██████████| 50/50 [00:05<00:00,  9.06it/s, epoch=47, loss=0.9782, wd=2338.2568, acc=0.7020, grad_norm=3.8280]\n",
      "100%|██████████| 50/50 [00:05<00:00,  8.95it/s, epoch=48, loss=0.9661, wd=2345.4365, acc=0.7300, grad_norm=3.8261]\n",
      "100%|██████████| 50/50 [00:05<00:00,  8.94it/s, epoch=49, loss=0.9189, wd=2343.0393, acc=0.7380, grad_norm=3.7816]\n",
      "100%|██████████| 50/50 [00:05<00:00,  9.00it/s, epoch=50, loss=0.9474, wd=2346.2751, acc=0.7170, grad_norm=3.7956]\n"
     ]
    },
    {
     "name": "stdout",
     "output_type": "stream",
     "text": [
      "Epoch [50] Test Accuracy : 0.5452\n"
     ]
    },
    {
     "name": "stderr",
     "output_type": "stream",
     "text": [
      "100%|██████████| 50/50 [00:05<00:00,  9.01it/s, epoch=51, loss=0.9121, wd=2347.7122, acc=0.7360, grad_norm=3.8403]\n",
      "100%|██████████| 50/50 [00:05<00:00,  8.99it/s, epoch=52, loss=0.8983, wd=2348.5115, acc=0.7330, grad_norm=3.8618]\n",
      "100%|██████████| 50/50 [00:05<00:00,  9.00it/s, epoch=53, loss=0.8726, wd=2352.8542, acc=0.7340, grad_norm=3.7517]\n",
      "100%|██████████| 50/50 [00:05<00:00,  9.01it/s, epoch=54, loss=0.8883, wd=2354.5042, acc=0.7360, grad_norm=3.9165]\n",
      "100%|██████████| 50/50 [00:05<00:00,  8.92it/s, epoch=55, loss=0.8288, wd=2359.2405, acc=0.7600, grad_norm=3.7519]\n",
      "100%|██████████| 50/50 [00:05<00:00,  9.00it/s, epoch=56, loss=0.8237, wd=2358.4434, acc=0.7550, grad_norm=3.7970]\n",
      "100%|██████████| 50/50 [00:05<00:00,  8.95it/s, epoch=57, loss=0.8597, wd=2355.8186, acc=0.7560, grad_norm=3.9710]\n",
      "100%|██████████| 50/50 [00:05<00:00,  9.01it/s, epoch=58, loss=0.8618, wd=2359.1699, acc=0.7340, grad_norm=4.1858]\n",
      "100%|██████████| 50/50 [00:05<00:00,  9.04it/s, epoch=59, loss=0.8169, wd=2364.0879, acc=0.7640, grad_norm=3.7192]\n",
      "100%|██████████| 50/50 [00:05<00:00,  9.02it/s, epoch=60, loss=0.8283, wd=2366.1152, acc=0.7720, grad_norm=4.0594]\n"
     ]
    },
    {
     "name": "stdout",
     "output_type": "stream",
     "text": [
      "Epoch [60] Test Accuracy : 0.5972\n"
     ]
    },
    {
     "name": "stderr",
     "output_type": "stream",
     "text": [
      "100%|██████████| 50/50 [00:05<00:00,  8.97it/s, epoch=61, loss=0.8519, wd=2362.5500, acc=0.7620, grad_norm=3.9647]\n",
      "100%|██████████| 50/50 [00:05<00:00,  8.97it/s, epoch=62, loss=0.7905, wd=2353.6086, acc=0.7710, grad_norm=3.9911]\n",
      "100%|██████████| 50/50 [00:05<00:00,  8.95it/s, epoch=63, loss=0.7999, wd=2354.5557, acc=0.7600, grad_norm=4.0129]\n",
      "100%|██████████| 50/50 [00:05<00:00,  8.94it/s, epoch=64, loss=0.7902, wd=2353.7605, acc=0.7630, grad_norm=3.9361]\n",
      "100%|██████████| 50/50 [00:05<00:00,  9.01it/s, epoch=65, loss=0.8160, wd=2350.3271, acc=0.7440, grad_norm=4.2067]\n",
      "100%|██████████| 50/50 [00:05<00:00,  9.01it/s, epoch=66, loss=0.7571, wd=2349.2175, acc=0.7850, grad_norm=4.0976]\n",
      "100%|██████████| 50/50 [00:05<00:00,  8.95it/s, epoch=67, loss=0.7869, wd=2346.7158, acc=0.7740, grad_norm=4.1769]\n",
      "100%|██████████| 50/50 [00:05<00:00,  8.97it/s, epoch=68, loss=0.7949, wd=2348.1045, acc=0.7550, grad_norm=4.1608]\n",
      "100%|██████████| 50/50 [00:05<00:00,  9.00it/s, epoch=69, loss=0.7630, wd=2345.2522, acc=0.7640, grad_norm=4.2275]\n",
      "100%|██████████| 50/50 [00:05<00:00,  8.99it/s, epoch=70, loss=0.7777, wd=2350.6416, acc=0.7640, grad_norm=4.3599]\n"
     ]
    },
    {
     "name": "stdout",
     "output_type": "stream",
     "text": [
      "Epoch [70] Test Accuracy : 0.5713\n"
     ]
    },
    {
     "name": "stderr",
     "output_type": "stream",
     "text": [
      "100%|██████████| 50/50 [00:05<00:00,  9.00it/s, epoch=71, loss=0.7636, wd=2342.2617, acc=0.7610, grad_norm=4.4381]\n",
      "100%|██████████| 50/50 [00:05<00:00,  8.98it/s, epoch=72, loss=0.7414, wd=2337.5344, acc=0.7810, grad_norm=4.1339]\n",
      "100%|██████████| 50/50 [00:05<00:00,  9.00it/s, epoch=73, loss=0.7806, wd=2332.1504, acc=0.7700, grad_norm=4.4041]\n",
      "100%|██████████| 50/50 [00:05<00:00,  9.02it/s, epoch=74, loss=0.7400, wd=2326.4412, acc=0.7790, grad_norm=4.2529]\n",
      "100%|██████████| 50/50 [00:05<00:00,  9.01it/s, epoch=75, loss=0.6600, wd=2321.5369, acc=0.7890, grad_norm=4.1516]\n",
      "100%|██████████| 50/50 [00:05<00:00,  9.03it/s, epoch=76, loss=0.7856, wd=2313.6985, acc=0.7610, grad_norm=4.8113]\n",
      "100%|██████████| 50/50 [00:05<00:00,  8.97it/s, epoch=77, loss=0.6929, wd=2310.3240, acc=0.7810, grad_norm=4.5159]\n",
      "100%|██████████| 50/50 [00:05<00:00,  9.00it/s, epoch=78, loss=0.6878, wd=2308.3740, acc=0.8000, grad_norm=4.2750]\n",
      "100%|██████████| 50/50 [00:05<00:00,  9.01it/s, epoch=79, loss=0.6703, wd=2300.8186, acc=0.8010, grad_norm=4.1394]\n",
      "100%|██████████| 50/50 [00:05<00:00,  8.98it/s, epoch=80, loss=0.6283, wd=2294.1838, acc=0.8170, grad_norm=4.2447]\n"
     ]
    },
    {
     "name": "stdout",
     "output_type": "stream",
     "text": [
      "Epoch [80] Test Accuracy : 0.6287\n"
     ]
    },
    {
     "name": "stderr",
     "output_type": "stream",
     "text": [
      "100%|██████████| 50/50 [00:05<00:00,  9.02it/s, epoch=81, loss=0.6084, wd=2290.5525, acc=0.8340, grad_norm=4.1171]\n",
      "100%|██████████| 50/50 [00:05<00:00,  8.97it/s, epoch=82, loss=0.6141, wd=2281.3533, acc=0.8270, grad_norm=4.2602]\n",
      "100%|██████████| 50/50 [00:05<00:00,  8.99it/s, epoch=83, loss=0.6525, wd=2273.1565, acc=0.8050, grad_norm=4.4928]\n",
      "100%|██████████| 50/50 [00:05<00:00,  8.97it/s, epoch=84, loss=0.6652, wd=2268.6130, acc=0.7990, grad_norm=4.7237]\n",
      "100%|██████████| 50/50 [00:05<00:00,  9.02it/s, epoch=85, loss=0.6653, wd=2261.4998, acc=0.7880, grad_norm=4.7091]\n",
      "100%|██████████| 50/50 [00:05<00:00,  9.01it/s, epoch=86, loss=0.5595, wd=2255.3748, acc=0.8330, grad_norm=4.3101]\n",
      "100%|██████████| 50/50 [00:05<00:00,  8.98it/s, epoch=87, loss=0.5644, wd=2245.6409, acc=0.8130, grad_norm=4.4565]\n",
      "100%|██████████| 50/50 [00:05<00:00,  8.99it/s, epoch=88, loss=0.5870, wd=2240.2998, acc=0.8250, grad_norm=4.4616]\n",
      "100%|██████████| 50/50 [00:05<00:00,  8.99it/s, epoch=89, loss=0.5619, wd=2232.2903, acc=0.8220, grad_norm=4.3489]\n",
      "100%|██████████| 50/50 [00:05<00:00,  9.03it/s, epoch=90, loss=0.5672, wd=2223.2031, acc=0.8310, grad_norm=4.5034]\n"
     ]
    },
    {
     "name": "stdout",
     "output_type": "stream",
     "text": [
      "Epoch [90] Test Accuracy : 0.6349\n"
     ]
    },
    {
     "name": "stderr",
     "output_type": "stream",
     "text": [
      "100%|██████████| 50/50 [00:05<00:00,  8.99it/s, epoch=91, loss=0.5535, wd=2210.3821, acc=0.8390, grad_norm=4.4837]\n",
      "100%|██████████| 50/50 [00:05<00:00,  9.00it/s, epoch=92, loss=0.5375, wd=2198.8108, acc=0.8310, grad_norm=4.5625]\n",
      "100%|██████████| 50/50 [00:05<00:00,  8.95it/s, epoch=93, loss=0.4934, wd=2188.8792, acc=0.8550, grad_norm=4.1969]\n",
      "100%|██████████| 50/50 [00:05<00:00,  8.97it/s, epoch=94, loss=0.5419, wd=2175.6426, acc=0.8310, grad_norm=4.7562]\n",
      "100%|██████████| 50/50 [00:05<00:00,  9.01it/s, epoch=95, loss=0.5066, wd=2161.4509, acc=0.8580, grad_norm=4.2510]\n",
      "100%|██████████| 50/50 [00:05<00:00,  9.00it/s, epoch=96, loss=0.4891, wd=2151.4568, acc=0.8500, grad_norm=4.4933]\n",
      "100%|██████████| 50/50 [00:05<00:00,  9.01it/s, epoch=97, loss=0.5393, wd=2142.4326, acc=0.8360, grad_norm=4.8753]\n",
      "100%|██████████| 50/50 [00:05<00:00,  9.05it/s, epoch=98, loss=0.5102, wd=2131.1169, acc=0.8400, grad_norm=4.7676]\n",
      "100%|██████████| 50/50 [00:05<00:00,  9.00it/s, epoch=99, loss=0.4792, wd=2120.8284, acc=0.8540, grad_norm=4.8194]\n",
      "100%|██████████| 50/50 [00:05<00:00,  9.04it/s, epoch=100, loss=0.4311, wd=2111.4121, acc=0.8790, grad_norm=4.4235]\n"
     ]
    },
    {
     "name": "stdout",
     "output_type": "stream",
     "text": [
      "Epoch [100] Test Accuracy : 0.6300\n"
     ]
    },
    {
     "name": "stderr",
     "output_type": "stream",
     "text": [
      "100%|██████████| 50/50 [00:05<00:00,  8.97it/s, epoch=101, loss=0.4131, wd=2095.1917, acc=0.8710, grad_norm=4.5744]\n",
      "100%|██████████| 50/50 [00:05<00:00,  8.96it/s, epoch=102, loss=0.4459, wd=2082.9006, acc=0.8660, grad_norm=4.6299]\n",
      "100%|██████████| 50/50 [00:05<00:00,  8.97it/s, epoch=103, loss=0.4281, wd=2070.7129, acc=0.8670, grad_norm=4.6149]\n",
      "100%|██████████| 50/50 [00:05<00:00,  9.01it/s, epoch=104, loss=0.4361, wd=2054.7422, acc=0.8680, grad_norm=4.7533]\n",
      "100%|██████████| 50/50 [00:05<00:00,  8.99it/s, epoch=105, loss=0.3784, wd=2043.2069, acc=0.8740, grad_norm=4.8764]\n",
      "100%|██████████| 50/50 [00:05<00:00,  8.96it/s, epoch=106, loss=0.4082, wd=2031.0333, acc=0.8780, grad_norm=4.7313]\n",
      "100%|██████████| 50/50 [00:05<00:00,  8.99it/s, epoch=107, loss=0.3860, wd=2017.9884, acc=0.8890, grad_norm=4.6925]\n",
      "100%|██████████| 50/50 [00:05<00:00,  9.04it/s, epoch=108, loss=0.3299, wd=2001.0098, acc=0.9140, grad_norm=4.4928]\n",
      "100%|██████████| 50/50 [00:05<00:00,  8.99it/s, epoch=109, loss=0.3564, wd=1984.7587, acc=0.8920, grad_norm=4.6823]\n",
      "100%|██████████| 50/50 [00:05<00:00,  8.97it/s, epoch=110, loss=0.3692, wd=1967.2909, acc=0.8920, grad_norm=4.9583]\n"
     ]
    },
    {
     "name": "stdout",
     "output_type": "stream",
     "text": [
      "Epoch [110] Test Accuracy : 0.6318\n"
     ]
    },
    {
     "name": "stderr",
     "output_type": "stream",
     "text": [
      "100%|██████████| 50/50 [00:05<00:00,  9.00it/s, epoch=111, loss=0.3597, wd=1949.5441, acc=0.8910, grad_norm=4.6721]\n",
      "100%|██████████| 50/50 [00:05<00:00,  9.02it/s, epoch=112, loss=0.3792, wd=1931.8810, acc=0.8740, grad_norm=5.2222]\n",
      "100%|██████████| 50/50 [00:05<00:00,  8.98it/s, epoch=113, loss=0.3198, wd=1914.5206, acc=0.9060, grad_norm=4.6849]\n",
      "100%|██████████| 50/50 [00:05<00:00,  8.97it/s, epoch=114, loss=0.3261, wd=1898.7128, acc=0.9050, grad_norm=4.6768]\n",
      "100%|██████████| 50/50 [00:05<00:00,  8.94it/s, epoch=115, loss=0.3234, wd=1883.2618, acc=0.9070, grad_norm=4.6421]\n",
      "100%|██████████| 50/50 [00:05<00:00,  9.01it/s, epoch=116, loss=0.3325, wd=1865.3934, acc=0.9020, grad_norm=4.9056]\n",
      "100%|██████████| 50/50 [00:05<00:00,  9.02it/s, epoch=117, loss=0.2764, wd=1846.8966, acc=0.9180, grad_norm=4.5651]\n",
      "100%|██████████| 50/50 [00:05<00:00,  9.02it/s, epoch=118, loss=0.2721, wd=1828.1249, acc=0.9230, grad_norm=4.6282]\n",
      "100%|██████████| 50/50 [00:05<00:00,  9.00it/s, epoch=119, loss=0.2517, wd=1809.5166, acc=0.9330, grad_norm=4.5658]\n",
      "100%|██████████| 50/50 [00:05<00:00,  8.96it/s, epoch=120, loss=0.2571, wd=1793.4855, acc=0.9240, grad_norm=4.8717]\n"
     ]
    },
    {
     "name": "stdout",
     "output_type": "stream",
     "text": [
      "Epoch [120] Test Accuracy : 0.6477\n"
     ]
    },
    {
     "name": "stderr",
     "output_type": "stream",
     "text": [
      "100%|██████████| 50/50 [00:05<00:00,  9.03it/s, epoch=121, loss=0.2524, wd=1775.8145, acc=0.9240, grad_norm=4.6772]\n",
      "100%|██████████| 50/50 [00:05<00:00,  8.96it/s, epoch=122, loss=0.3004, wd=1755.6503, acc=0.9130, grad_norm=5.1388]\n",
      "100%|██████████| 50/50 [00:05<00:00,  8.95it/s, epoch=123, loss=0.2636, wd=1738.8936, acc=0.9320, grad_norm=4.8293]\n",
      "100%|██████████| 50/50 [00:05<00:00,  8.96it/s, epoch=124, loss=0.2579, wd=1717.8885, acc=0.9230, grad_norm=4.7386]\n",
      "100%|██████████| 50/50 [00:05<00:00,  8.92it/s, epoch=125, loss=0.2138, wd=1695.3983, acc=0.9440, grad_norm=4.6720]\n",
      "100%|██████████| 50/50 [00:05<00:00,  8.94it/s, epoch=126, loss=0.1885, wd=1675.9200, acc=0.9590, grad_norm=4.2348]\n",
      "100%|██████████| 50/50 [00:05<00:00,  8.96it/s, epoch=127, loss=0.2614, wd=1655.7666, acc=0.9240, grad_norm=4.9601]\n",
      "100%|██████████| 50/50 [00:05<00:00,  8.99it/s, epoch=128, loss=0.2506, wd=1634.7938, acc=0.9340, grad_norm=5.1346]\n",
      "100%|██████████| 50/50 [00:05<00:00,  8.89it/s, epoch=129, loss=0.1931, wd=1614.8407, acc=0.9460, grad_norm=4.6225]\n",
      "100%|██████████| 50/50 [00:05<00:00,  8.98it/s, epoch=130, loss=0.1933, wd=1593.7051, acc=0.9430, grad_norm=4.7823]\n"
     ]
    },
    {
     "name": "stdout",
     "output_type": "stream",
     "text": [
      "Epoch [130] Test Accuracy : 0.6943\n"
     ]
    },
    {
     "name": "stderr",
     "output_type": "stream",
     "text": [
      "100%|██████████| 50/50 [00:05<00:00,  9.01it/s, epoch=131, loss=0.2096, wd=1573.0177, acc=0.9420, grad_norm=5.1416]\n",
      "100%|██████████| 50/50 [00:05<00:00,  8.99it/s, epoch=132, loss=0.1793, wd=1552.7358, acc=0.9550, grad_norm=4.4853]\n",
      "100%|██████████| 50/50 [00:05<00:00,  8.86it/s, epoch=133, loss=0.1802, wd=1532.9014, acc=0.9510, grad_norm=4.5859]\n",
      "100%|██████████| 50/50 [00:05<00:00,  8.89it/s, epoch=134, loss=0.1716, wd=1511.0571, acc=0.9500, grad_norm=4.5780]\n",
      "100%|██████████| 50/50 [00:05<00:00,  8.89it/s, epoch=135, loss=0.1694, wd=1491.1021, acc=0.9570, grad_norm=4.8916]\n",
      "100%|██████████| 50/50 [00:05<00:00,  8.91it/s, epoch=136, loss=0.1755, wd=1471.3566, acc=0.9510, grad_norm=4.9832]\n",
      "100%|██████████| 50/50 [00:05<00:00,  9.01it/s, epoch=137, loss=0.1699, wd=1449.5314, acc=0.9580, grad_norm=4.8750]\n",
      "100%|██████████| 50/50 [00:05<00:00,  9.05it/s, epoch=138, loss=0.1594, wd=1427.7990, acc=0.9550, grad_norm=4.7999]\n",
      "100%|██████████| 50/50 [00:05<00:00,  9.07it/s, epoch=139, loss=0.1491, wd=1408.0708, acc=0.9680, grad_norm=4.5408]\n",
      "100%|██████████| 50/50 [00:05<00:00,  9.01it/s, epoch=140, loss=0.1394, wd=1387.4406, acc=0.9640, grad_norm=4.3151]\n"
     ]
    },
    {
     "name": "stdout",
     "output_type": "stream",
     "text": [
      "Epoch [140] Test Accuracy : 0.6977\n"
     ]
    },
    {
     "name": "stderr",
     "output_type": "stream",
     "text": [
      "100%|██████████| 50/50 [00:05<00:00,  8.95it/s, epoch=141, loss=0.1392, wd=1365.7655, acc=0.9590, grad_norm=4.6611]\n",
      "100%|██████████| 50/50 [00:05<00:00,  9.02it/s, epoch=142, loss=0.1177, wd=1344.9142, acc=0.9760, grad_norm=4.4793]\n",
      "100%|██████████| 50/50 [00:05<00:00,  8.95it/s, epoch=143, loss=0.1196, wd=1324.6816, acc=0.9740, grad_norm=4.1580]\n",
      "100%|██████████| 50/50 [00:05<00:00,  8.99it/s, epoch=144, loss=0.1301, wd=1303.7778, acc=0.9650, grad_norm=4.5388]\n",
      "100%|██████████| 50/50 [00:05<00:00,  9.01it/s, epoch=145, loss=0.1214, wd=1281.6439, acc=0.9670, grad_norm=4.5184]\n",
      "100%|██████████| 50/50 [00:05<00:00,  8.96it/s, epoch=146, loss=0.1189, wd=1261.0966, acc=0.9700, grad_norm=4.4878]\n",
      "100%|██████████| 50/50 [00:05<00:00,  8.98it/s, epoch=147, loss=0.1068, wd=1240.2139, acc=0.9730, grad_norm=4.3953]\n",
      "100%|██████████| 50/50 [00:05<00:00,  8.98it/s, epoch=148, loss=0.0846, wd=1220.1600, acc=0.9830, grad_norm=3.7820]\n",
      "100%|██████████| 50/50 [00:05<00:00,  9.02it/s, epoch=149, loss=0.1069, wd=1199.7394, acc=0.9750, grad_norm=4.2995]\n",
      "100%|██████████| 50/50 [00:05<00:00,  9.00it/s, epoch=150, loss=0.0836, wd=1179.1703, acc=0.9870, grad_norm=3.7249]\n"
     ]
    },
    {
     "name": "stdout",
     "output_type": "stream",
     "text": [
      "Epoch [150] Test Accuracy : 0.7189\n"
     ]
    },
    {
     "name": "stderr",
     "output_type": "stream",
     "text": [
      "100%|██████████| 50/50 [00:05<00:00,  8.97it/s, epoch=151, loss=0.0957, wd=1159.5645, acc=0.9810, grad_norm=4.1615]\n",
      "100%|██████████| 50/50 [00:05<00:00,  9.01it/s, epoch=152, loss=0.0728, wd=1139.3384, acc=0.9890, grad_norm=3.6267]\n",
      "100%|██████████| 50/50 [00:05<00:00,  8.96it/s, epoch=153, loss=0.0831, wd=1119.1310, acc=0.9820, grad_norm=4.0158]\n",
      "100%|██████████| 50/50 [00:05<00:00,  9.01it/s, epoch=154, loss=0.0696, wd=1098.6061, acc=0.9890, grad_norm=3.4463]\n",
      "100%|██████████| 50/50 [00:05<00:00,  8.99it/s, epoch=155, loss=0.0698, wd=1078.4894, acc=0.9910, grad_norm=3.6738]\n",
      "100%|██████████| 50/50 [00:05<00:00,  9.00it/s, epoch=156, loss=0.0619, wd=1059.4414, acc=0.9860, grad_norm=3.7066]\n",
      "100%|██████████| 50/50 [00:05<00:00,  9.01it/s, epoch=157, loss=0.0594, wd=1040.0410, acc=0.9930, grad_norm=3.5412]\n",
      "100%|██████████| 50/50 [00:05<00:00,  8.99it/s, epoch=158, loss=0.0699, wd=1021.4975, acc=0.9870, grad_norm=3.6084]\n",
      "100%|██████████| 50/50 [00:05<00:00,  8.95it/s, epoch=159, loss=0.0535, wd=1002.8310, acc=0.9910, grad_norm=3.1360]\n",
      "100%|██████████| 50/50 [00:05<00:00,  8.97it/s, epoch=160, loss=0.0422, wd=983.8882, acc=0.9930, grad_norm=2.7119]\n"
     ]
    },
    {
     "name": "stdout",
     "output_type": "stream",
     "text": [
      "Epoch [160] Test Accuracy : 0.7230\n"
     ]
    },
    {
     "name": "stderr",
     "output_type": "stream",
     "text": [
      "100%|██████████| 50/50 [00:05<00:00,  8.91it/s, epoch=161, loss=0.0587, wd=965.8838, acc=0.9900, grad_norm=3.8631]\n",
      "100%|██████████| 50/50 [00:05<00:00,  8.97it/s, epoch=162, loss=0.0450, wd=946.9321, acc=0.9920, grad_norm=2.7418]\n",
      "100%|██████████| 50/50 [00:05<00:00,  8.94it/s, epoch=163, loss=0.0377, wd=928.2900, acc=0.9960, grad_norm=2.5636]\n",
      "100%|██████████| 50/50 [00:05<00:00,  8.99it/s, epoch=164, loss=0.0360, wd=910.3926, acc=0.9970, grad_norm=2.6801]\n",
      "100%|██████████| 50/50 [00:05<00:00,  9.00it/s, epoch=165, loss=0.0366, wd=893.0717, acc=0.9960, grad_norm=2.5268]\n",
      "100%|██████████| 50/50 [00:05<00:00,  9.00it/s, epoch=166, loss=0.0389, wd=875.9146, acc=0.9960, grad_norm=2.6228]\n",
      "100%|██████████| 50/50 [00:05<00:00,  8.98it/s, epoch=167, loss=0.0274, wd=859.2222, acc=1.0000, grad_norm=1.8705]\n",
      "100%|██████████| 50/50 [00:05<00:00,  8.97it/s, epoch=168, loss=0.0285, wd=843.3223, acc=0.9960, grad_norm=2.3599]\n",
      "100%|██████████| 50/50 [00:05<00:00,  8.98it/s, epoch=169, loss=0.0278, wd=827.1664, acc=0.9980, grad_norm=2.2201]\n",
      "100%|██████████| 50/50 [00:05<00:00,  9.01it/s, epoch=170, loss=0.0194, wd=811.9654, acc=0.9980, grad_norm=1.7440]\n"
     ]
    },
    {
     "name": "stdout",
     "output_type": "stream",
     "text": [
      "Epoch [170] Test Accuracy : 0.7640\n"
     ]
    },
    {
     "name": "stderr",
     "output_type": "stream",
     "text": [
      "100%|██████████| 50/50 [00:05<00:00,  8.98it/s, epoch=171, loss=0.0155, wd=797.0220, acc=1.0000, grad_norm=1.1981]\n",
      "100%|██████████| 50/50 [00:05<00:00,  9.01it/s, epoch=172, loss=0.0214, wd=782.6807, acc=0.9980, grad_norm=1.5047]\n",
      "100%|██████████| 50/50 [00:05<00:00,  8.94it/s, epoch=173, loss=0.0146, wd=769.4846, acc=1.0000, grad_norm=1.1513]\n",
      "100%|██████████| 50/50 [00:05<00:00,  8.92it/s, epoch=174, loss=0.0150, wd=757.2483, acc=0.9990, grad_norm=1.0295]\n",
      "100%|██████████| 50/50 [00:05<00:00,  8.97it/s, epoch=175, loss=0.0123, wd=745.8920, acc=0.9990, grad_norm=0.6978]\n",
      "100%|██████████| 50/50 [00:05<00:00,  9.00it/s, epoch=176, loss=0.0149, wd=735.5478, acc=0.9990, grad_norm=1.1907]\n",
      "100%|██████████| 50/50 [00:05<00:00,  8.99it/s, epoch=177, loss=0.0130, wd=726.2393, acc=1.0000, grad_norm=0.7686]\n",
      "100%|██████████| 50/50 [00:05<00:00,  8.99it/s, epoch=178, loss=0.0128, wd=717.7258, acc=1.0000, grad_norm=1.0785]\n",
      "100%|██████████| 50/50 [00:05<00:00,  8.89it/s, epoch=179, loss=0.0153, wd=710.0590, acc=0.9980, grad_norm=1.1848]\n",
      "100%|██████████| 50/50 [00:05<00:00,  8.95it/s, epoch=180, loss=0.0122, wd=703.1459, acc=0.9990, grad_norm=0.8182]\n"
     ]
    },
    {
     "name": "stdout",
     "output_type": "stream",
     "text": [
      "Epoch [180] Test Accuracy : 0.7862\n"
     ]
    },
    {
     "name": "stderr",
     "output_type": "stream",
     "text": [
      "100%|██████████| 50/50 [00:05<00:00,  8.94it/s, epoch=181, loss=0.0114, wd=696.9978, acc=1.0000, grad_norm=0.6316]\n",
      "100%|██████████| 50/50 [00:05<00:00,  8.94it/s, epoch=182, loss=0.0143, wd=691.5225, acc=0.9990, grad_norm=0.9657]\n",
      "100%|██████████| 50/50 [00:05<00:00,  8.94it/s, epoch=183, loss=0.0109, wd=686.6581, acc=1.0000, grad_norm=0.6292]\n",
      "100%|██████████| 50/50 [00:05<00:00,  8.98it/s, epoch=184, loss=0.0146, wd=682.3520, acc=0.9990, grad_norm=1.0048]\n",
      "100%|██████████| 50/50 [00:05<00:00,  8.96it/s, epoch=185, loss=0.0106, wd=678.5648, acc=1.0000, grad_norm=0.6567]\n",
      "100%|██████████| 50/50 [00:05<00:00,  8.94it/s, epoch=186, loss=0.0150, wd=675.2854, acc=0.9990, grad_norm=1.2398]\n",
      "100%|██████████| 50/50 [00:05<00:00,  8.95it/s, epoch=187, loss=0.0136, wd=672.4478, acc=0.9990, grad_norm=0.8858]\n",
      "100%|██████████| 50/50 [00:05<00:00,  8.97it/s, epoch=188, loss=0.0105, wd=670.0268, acc=1.0000, grad_norm=0.6545]\n",
      "100%|██████████| 50/50 [00:05<00:00,  8.94it/s, epoch=189, loss=0.0118, wd=667.9809, acc=1.0000, grad_norm=0.5979]\n",
      "100%|██████████| 50/50 [00:05<00:00,  8.99it/s, epoch=190, loss=0.0131, wd=666.2818, acc=1.0000, grad_norm=0.8644]\n"
     ]
    },
    {
     "name": "stdout",
     "output_type": "stream",
     "text": [
      "Epoch [190] Test Accuracy : 0.7878\n"
     ]
    },
    {
     "name": "stderr",
     "output_type": "stream",
     "text": [
      "100%|██████████| 50/50 [00:05<00:00,  8.94it/s, epoch=191, loss=0.0118, wd=664.8950, acc=0.9990, grad_norm=0.6279]\n",
      "100%|██████████| 50/50 [00:05<00:00,  9.01it/s, epoch=192, loss=0.0117, wd=663.7847, acc=1.0000, grad_norm=0.6484]\n",
      "100%|██████████| 50/50 [00:05<00:00,  8.97it/s, epoch=193, loss=0.0137, wd=662.9188, acc=0.9990, grad_norm=0.8665]\n",
      "100%|██████████| 50/50 [00:05<00:00,  9.01it/s, epoch=194, loss=0.0118, wd=662.2664, acc=1.0000, grad_norm=0.6530]\n",
      "100%|██████████| 50/50 [00:05<00:00,  9.02it/s, epoch=195, loss=0.0113, wd=661.7988, acc=1.0000, grad_norm=0.6973]\n",
      "100%|██████████| 50/50 [00:05<00:00,  8.99it/s, epoch=196, loss=0.0122, wd=661.4846, acc=0.9990, grad_norm=0.6581]\n",
      "100%|██████████| 50/50 [00:05<00:00,  8.95it/s, epoch=197, loss=0.0122, wd=661.2939, acc=0.9990, grad_norm=0.7378]\n",
      "100%|██████████| 50/50 [00:05<00:00,  8.97it/s, epoch=198, loss=0.0128, wd=661.1953, acc=1.0000, grad_norm=0.6960]\n",
      "100%|██████████| 50/50 [00:05<00:00,  9.01it/s, epoch=199, loss=0.0110, wd=661.1582, acc=1.0000, grad_norm=0.5849]\n",
      "100%|██████████| 50/50 [00:05<00:00,  9.01it/s, epoch=200, loss=0.0103, wd=661.1528, acc=1.0000, grad_norm=0.5339]\n"
     ]
    },
    {
     "name": "stdout",
     "output_type": "stream",
     "text": [
      "Epoch [200] Test Accuracy : 0.7883\n"
     ]
    }
   ],
   "source": [
    "for epoch in range(1, NUM_EPOCH+1):\n",
    "    \n",
    "    pbar = tqdm(range(NUM_TRAIN // BATCH_SIZE))\n",
    "    for step in pbar:\n",
    "\n",
    "        batch = next(train_dataset)\n",
    "        rng, rng_ = jax.random.split(rng)\n",
    "        log, trainer_replicated = opt_step_pmapped(trainer_replicated, batch, jax.random.split(rng_, num_devices))\n",
    "\n",
    "        res = [('epoch', epoch)]\n",
    "        for k, v in log.items():\n",
    "            res.append((k, f'{np.mean(v):.4f}'))\n",
    "        res = dict(res)\n",
    "        pbar.set_postfix(res)\n",
    "        \n",
    "    if (epoch % 10) == 0:\n",
    "        acc_test = compute_acc_dataset(trainer_replicated, test_dataset)\n",
    "        print(f'Epoch [{epoch}] Test Accuracy : {acc_test:.4f}')"
   ]
  },
  {
   "cell_type": "code",
   "execution_count": 13,
   "metadata": {},
   "outputs": [],
   "source": [
    "import flax\n",
    "from flax.training.checkpoints import save_checkpoint, restore_checkpoint\n",
    "\n",
    "def save_ckpt(trainer, path):\n",
    "    save_checkpoint(path, trainer, trainer.step, overwrite=True)\n",
    "\n",
    "load_ckpt = restore_checkpoint\n",
    "\n",
    "trainer = unreplicate(trainer_replicated)\n",
    "ckpt_path = f'./result/cifar{NUM_CLASSES}/renset_18'\n",
    "save_ckpt(trainer, ckpt_path)\n",
    "\n",
    "trainer_restored = load_ckpt(ckpt_path, trainer)"
   ]
  },
  {
   "cell_type": "code",
   "execution_count": 14,
   "metadata": {},
   "outputs": [
    {
     "name": "stdout",
     "output_type": "stream",
     "text": [
      "Restored Accuracy : 0.7883\n"
     ]
    }
   ],
   "source": [
    "test_acc = compute_acc_dataset(replicate(trainer_restored), test_dataset)\n",
    "print(f'Restored Accuracy : {test_acc:.4f}')"
   ]
  }
 ],
 "metadata": {
  "kernelspec": {
   "display_name": "Python 3 (ipykernel)",
   "language": "python",
   "name": "python3"
  },
  "language_info": {
   "codemirror_mode": {
    "name": "ipython",
    "version": 3
   },
   "file_extension": ".py",
   "mimetype": "text/x-python",
   "name": "python",
   "nbconvert_exporter": "python",
   "pygments_lexer": "ipython3",
   "version": "3.8.10"
  },
  "orig_nbformat": 4,
  "vscode": {
   "interpreter": {
    "hash": "e7370f93d1d0cde622a1f8e1c04877d8463912d04d973331ad4851f04de6915a"
   }
  }
 },
 "nbformat": 4,
 "nbformat_minor": 2
}

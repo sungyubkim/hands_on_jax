{
 "cells": [
  {
   "cell_type": "markdown",
   "metadata": {},
   "source": [
    "# Import packages"
   ]
  },
  {
   "cell_type": "code",
   "execution_count": 1,
   "metadata": {},
   "outputs": [
    {
     "name": "stdout",
     "output_type": "stream",
     "text": [
      "# of GPUs : 8\n"
     ]
    },
    {
     "name": "stderr",
     "output_type": "stream",
     "text": [
      "/usr/local/lib/python3.8/dist-packages/chex/_src/pytypes.py:37: FutureWarning: jax.tree_structure is deprecated, and will be removed in a future release. Use jax.tree_util.tree_structure instead.\n",
      "  PyTreeDef = type(jax.tree_structure(None))\n"
     ]
    }
   ],
   "source": [
    "import jax\n",
    "num_devices = jax.local_device_count()\n",
    "print(f'# of GPUs : {num_devices}')\n",
    "\n",
    "import haiku as hk\n",
    "import optax\n",
    "import numpy as np\n",
    "import jax.numpy as jnp\n",
    "from tqdm import tqdm\n",
    "from functools import partial\n",
    "from dataclasses import dataclass\n",
    "\n",
    "# we import some helper function/classes\n",
    "import os\n",
    "import sys\n",
    "module_path = os.path.abspath(os.path.join('..'))\n",
    "if module_path not in sys.path:\n",
    "    sys.path.append(module_path)\n",
    "from utils import Trainer, params_to_vec, make_forward_with_state, replicate, unreplicate\n",
    "\n",
    "import matplotlib.pyplot as plt\n",
    "plt.style.use('ggplot')\n",
    "plt.rcParams['figure.figsize'] = (4, 3)\n",
    "plt.rcParams['xtick.labelsize'] = 8\n",
    "plt.rcParams['ytick.labelsize'] = 8"
   ]
  },
  {
   "cell_type": "markdown",
   "metadata": {},
   "source": [
    "# Deinfe hyperparameters"
   ]
  },
  {
   "cell_type": "code",
   "execution_count": 2,
   "metadata": {},
   "outputs": [
    {
     "data": {
      "image/png": "[encoded data removed]",
      "text/plain": [
       "<Figure size 400x300 with 1 Axes>"
      ]
     },
     "metadata": {},
     "output_type": "display_data"
    }
   ],
   "source": [
    "NUM_CLASSES = 100\n",
    "NUM_EPOCH = 200\n",
    "NUM_TRAIN = 50000\n",
    "BATCH_SIZE = 1000\n",
    "WARMUP_RATIO = 0.1\n",
    "\n",
    "\n",
    "def create_lr_sched():\n",
    "    total_step = NUM_EPOCH * (NUM_TRAIN // BATCH_SIZE)\n",
    "    warmup_step = total_step * WARMUP_RATIO\n",
    "    return optax.warmup_cosine_decay_schedule(0.0, 0.4, warmup_step, total_step, 0.0)\n",
    "\n",
    "lr_sched = create_lr_sched()\n",
    "step = np.arange(NUM_EPOCH * (NUM_TRAIN // BATCH_SIZE))\n",
    "lr = lr_sched(step)\n",
    "plt.plot(step, lr)\n",
    "plt.xlabel('step')\n",
    "plt.ylabel('learning rate')\n",
    "plt.title('Cosine annealing with linear warmup')\n",
    "plt.show()"
   ]
  },
  {
   "cell_type": "markdown",
   "metadata": {},
   "source": [
    "# Define ResNet"
   ]
  },
  {
   "cell_type": "code",
   "execution_count": 3,
   "metadata": {},
   "outputs": [],
   "source": [
    "from typing import Any, Callable, Tuple, Sequence\n",
    "\n",
    "ModuleType = Any\n",
    "\n",
    "@dataclass\n",
    "class Block(hk.Module):\n",
    "    name : str\n",
    "    conv : ModuleType\n",
    "    norm : ModuleType\n",
    "    act : Callable\n",
    "    filters : int\n",
    "    stride : int = 1\n",
    "    \n",
    "    def __call__(self, x, train):\n",
    "        y = x\n",
    "        y = self.norm(name=f'{self.name}_norm_0')(y, train)\n",
    "        y = self.act(y)\n",
    "        y = self.conv(output_channels=self.filters, kernel_shape=3, name=f'{self.name}_conv_0')(y)\n",
    "        y = self.norm(name=f'{self.name}_norm_1')(y, train)\n",
    "        y = self.act(y)\n",
    "        y = self.conv(output_channels=self.filters, kernel_shape=3, stride=self.stride, name=f'{self.name}_conv_1')(y)\n",
    "        \n",
    "        if x.shape != y.shape:\n",
    "            x = self.conv(output_channels=self.filters, kernel_shape=1, stride=self.stride, name=f'{self.name}_shorcut')(x)\n",
    "        \n",
    "        return x + y\n",
    "    \n",
    "@dataclass\n",
    "class ResNet(hk.Module):\n",
    "    name : str\n",
    "    block_cls : ModuleType\n",
    "    stage_sizes : Sequence[int]\n",
    "    num_filters : Sequence[int]\n",
    "    strides : Sequence[int]\n",
    "    num_classes : int\n",
    "    act : Callable = jax.nn.relu\n",
    "    \n",
    "    def __call__(self, x, train=True):\n",
    "        conv = partial(\n",
    "            hk.Conv2D,\n",
    "            with_bias=False,\n",
    "        )\n",
    "        norm = partial(\n",
    "            hk.BatchNorm,\n",
    "            create_scale=True,\n",
    "            create_offset=True,\n",
    "            decay_rate=0.9,\n",
    "            eps=1e-5,\n",
    "        )\n",
    "        \n",
    "        x = conv(\n",
    "            output_channels=64,\n",
    "            kernel_shape=3,\n",
    "            stride=1,\n",
    "            name=f'{self.name}_embedding',\n",
    "        )(x)\n",
    "        \n",
    "        for i, block_size in enumerate(self.stage_sizes):\n",
    "            for j in range(block_size):\n",
    "                # only the first block of block_group follows stride\n",
    "                # other blocks are stride 1.\n",
    "                stride = (1 if (j > 0) else self.strides[i])\n",
    "                x = self.block_cls(\n",
    "                    name=f'block_{i}_{j}',\n",
    "                    conv=conv,\n",
    "                    norm=norm,\n",
    "                    filters=self.num_filters[i],\n",
    "                    stride=stride,\n",
    "                    act=self.act\n",
    "                    )(x, train)\n",
    "        \n",
    "        x = norm(name=f'{self.name}_final_norm')(x, train)\n",
    "        x = self.act(x)\n",
    "        x = x.mean(axis=(1,2))\n",
    "        x = hk.Linear(self.num_classes, name=f'{self.name}_head')(x)\n",
    "        return x"
   ]
  },
  {
   "cell_type": "code",
   "execution_count": 4,
   "metadata": {},
   "outputs": [],
   "source": [
    "rng = jax.random.PRNGKey(42)\n",
    "batch = jnp.zeros((1, 32, 32, 3), jnp.float32)\n",
    "net = partial(\n",
    "    ResNet,\n",
    "    name='ResNet_18',\n",
    "    stage_sizes=[2, 2, 2, 2],\n",
    "    num_filters=[64, 128, 256, 512],\n",
    "    strides=[1, 2, 2, 2],\n",
    "    block_cls=Block,\n",
    "    num_classes=NUM_CLASSES,\n",
    ")\n",
    "net = make_forward_with_state(net)\n",
    "params, state = net.init(rng, batch, train=True)\n",
    "\n",
    "# import graphviz\n",
    "# dot = hk.experimental.to_dot(net.apply)(params, state, rng, batch)\n",
    "# graphviz.Source(dot)\n",
    "\n",
    "tx = optax.sgd(learning_rate=create_lr_sched(), momentum=0.9)\n",
    "trainer = Trainer.create(\n",
    "    apply_fn=net.apply,\n",
    "    params=params,\n",
    "    state=state,\n",
    "    tx=tx,\n",
    ")"
   ]
  },
  {
   "cell_type": "code",
   "execution_count": 5,
   "metadata": {},
   "outputs": [],
   "source": [
    "WD_COEF = 5e-4\n",
    "\n",
    "def loss_fn(params, trainer, batch, rng):\n",
    "    # state contains batch statistics\n",
    "    logit, state = trainer.apply_fn(params, trainer.state, rng, batch['x'], train=True)\n",
    "    log_prob = jax.nn.log_softmax(logit)\n",
    "    cross_entropy_loss = - (batch['y'] * log_prob).sum(axis=-1).mean()\n",
    "    \n",
    "    wd = (params_to_vec(params)**2).sum()\n",
    "    \n",
    "    loss = cross_entropy_loss + WD_COEF * wd\n",
    "    acc = (jnp.argmax(logit, axis=-1) == jnp.argmax(batch['y'], axis=-1)).astype(int).mean()\n",
    "    \n",
    "    return loss, (cross_entropy_loss, wd, acc, state)"
   ]
  },
  {
   "cell_type": "code",
   "execution_count": 6,
   "metadata": {},
   "outputs": [],
   "source": [
    "def opt_step(trainer, batch, rng):\n",
    "\n",
    "  grad_fn = jax.grad(loss_fn, has_aux=True)\n",
    "  grads, (loss, wd, acc, new_state) = grad_fn(\n",
    "      trainer.params,\n",
    "      trainer,\n",
    "      batch,\n",
    "      rng,\n",
    "  )\n",
    "\n",
    "  grad_norm = jnp.sqrt((params_to_vec(grads)**2).sum())\n",
    "  \n",
    "  grads = jax.lax.pmean(grads, axis_name='batch')\n",
    "  new_state = jax.lax.pmean(new_state, axis_name='batch')\n",
    "  trainer = trainer.apply_gradients(grads=grads, state=new_state)\n",
    "\n",
    "  log = {\n",
    "      'loss': loss,\n",
    "      'wd': wd,\n",
    "      'acc': acc,\n",
    "      'grad_norm': grad_norm,\n",
    "  }\n",
    "  log = jax.lax.pmean(log, axis_name='batch')\n",
    "\n",
    "  return log, trainer"
   ]
  },
  {
   "cell_type": "code",
   "execution_count": 7,
   "metadata": {},
   "outputs": [
    {
     "name": "stderr",
     "output_type": "stream",
     "text": [
      "/usr/lib/python3/dist-packages/requests/__init__.py:89: RequestsDependencyWarning: urllib3 (1.26.12) or chardet (3.0.4) doesn't match a supported version!\n",
      "  warnings.warn(\"urllib3 ({}) or chardet ({}) doesn't match a supported \"\n"
     ]
    }
   ],
   "source": [
    "import tensorflow as tf\n",
    "tf.config.experimental.set_visible_devices([], 'GPU')\n",
    "import tensorflow_datasets as tfds\n",
    "\n",
    "IMG_MEAN = (0.5, 0.5, 0.5)\n",
    "IMG_STD = (0.2, 0.2, 0.2)\n",
    "\n",
    "def load_dataset(batch_dims, train=True, shuffle=True, repeat=True):\n",
    "    total_batch_size = np.prod(batch_dims)\n",
    "    \n",
    "    if train:\n",
    "        ds = tfds.load(\n",
    "            f'cifar{NUM_CLASSES}',\n",
    "            data_dir='../../tensorflow_datasets/',\n",
    "            split='train',\n",
    "        )\n",
    "    else:\n",
    "        ds = tfds.load(\n",
    "            f'cifar{NUM_CLASSES}',\n",
    "            data_dir='../../tensorflow_datasets/',\n",
    "            split='test',\n",
    "        )\n",
    "        \n",
    "    def preprocess(sample):\n",
    "        img = tf.cast(sample['image'], tf.float32) / 255.0\n",
    "        img -= tf.constant(IMG_MEAN, shape=(1,1,3))\n",
    "        img /= tf.constant(IMG_STD, shape=(1,1,3))\n",
    "        label = tf.one_hot(sample['label'], NUM_CLASSES)\n",
    "        return {'x':img, 'y':label}\n",
    "    \n",
    "    ds = ds.map(preprocess, num_parallel_calls=tf.data.AUTOTUNE)\n",
    "    \n",
    "    if shuffle:\n",
    "        ds = ds.shuffle(NUM_TRAIN)\n",
    "    if repeat:\n",
    "        ds = ds.repeat()\n",
    "        \n",
    "    def aug(sample):\n",
    "        img = sample['x']\n",
    "        img = tf.image.random_flip_left_right(img)\n",
    "        img = tf.pad(img, [[4,4], [4,4], [0,0]], mode='REFLECT')\n",
    "        img = tf.image.random_crop(img, (32, 32, 3))\n",
    "        return {'x':img, 'y':sample['y']}\n",
    "    \n",
    "    if train:\n",
    "        ds = ds.map(aug, num_parallel_calls=tf.data.AUTOTUNE)\n",
    "        \n",
    "    ds = ds.batch(total_batch_size, drop_remainder=True)\n",
    "    \n",
    "    def batch_reshape(batch):\n",
    "        for k,v in batch.items():\n",
    "            batch[k] = tf.reshape(v, batch_dims+v.shape[1:])\n",
    "        return batch\n",
    "    \n",
    "    ds = ds.map(batch_reshape, num_parallel_calls=tf.data.AUTOTUNE)\n",
    "    ds = ds.prefetch(tf.data.AUTOTUNE)\n",
    "    \n",
    "    yield from tfds.as_numpy(ds)"
   ]
  },
  {
   "cell_type": "code",
   "execution_count": 8,
   "metadata": {},
   "outputs": [],
   "source": [
    "train_dataset = load_dataset((num_devices, BATCH_SIZE//num_devices))\n",
    "test_dataset = load_dataset((num_devices, BATCH_SIZE//num_devices), False, False, False)\n",
    "test_dataset = list(test_dataset)"
   ]
  },
  {
   "cell_type": "code",
   "execution_count": 9,
   "metadata": {},
   "outputs": [
    {
     "name": "stdout",
     "output_type": "stream",
     "text": [
      "# of batches for test daaset : 10\n",
      "Shape of batch : (8, 125, 32, 32, 3)\n"
     ]
    }
   ],
   "source": [
    "print(f'# of batches for test daaset : {len(test_dataset)}')\n",
    "shape = test_dataset[0]['x'].shape\n",
    "print(f'Shape of batch : {shape}')"
   ]
  },
  {
   "cell_type": "code",
   "execution_count": 10,
   "metadata": {},
   "outputs": [],
   "source": [
    "def compute_acc_batch(trainer, batch):\n",
    "    \n",
    "    logit, state = trainer.apply_fn(trainer.params, trainer.state, None, batch['x'], train=False)\n",
    "    \n",
    "    acc = (jnp.argmax(logit, axis=-1) == jnp.argmax(batch['y'], axis=-1)).astype(int).mean()\n",
    "    \n",
    "    return acc\n",
    "\n",
    "compute_acc_batch_pmapped = jax.pmap(compute_acc_batch, axis_name='batch')\n",
    "\n",
    "def compute_acc_dataset(trainer, dataset):\n",
    "    acc = 0\n",
    "    for batch in dataset:\n",
    "        acc_batch = compute_acc_batch_pmapped(trainer, batch)\n",
    "        acc += np.mean(acc_batch)\n",
    "    acc /= len(dataset)\n",
    "    return acc"
   ]
  },
  {
   "cell_type": "code",
   "execution_count": 11,
   "metadata": {},
   "outputs": [],
   "source": [
    "opt_step_pmapped = jax.pmap(opt_step, axis_name='batch')\n",
    "trainer_replicated = replicate(trainer)"
   ]
  },
  {
   "cell_type": "code",
   "execution_count": 12,
   "metadata": {},
   "outputs": [
    {
     "name": "stderr",
     "output_type": "stream",
     "text": [
      "  0%|          | 0/50 [00:00<?, ?it/s]2022-10-11 21:16:28.887530: W external/org_tensorflow/tensorflow/compiler/xla/service/gpu/gpu_conv_algorithm_picker.cc:727] None of the algorithms provided by cuDNN heuristics worked; trying fallback algorithms.  Conv: (f32[3,3,64,128]{1,0,2,3}, u8[0]{0}) custom-call(f32[125,32,32,64]{2,1,3,0}, f32[125,32,32,128]{2,1,3,0}), window={size=3x3 pad=1_1x1_1}, dim_labels=b01f_01io->b01f, custom_call_target=\"__cudnn$convBackwardFilter\", backend_config=\"{\\\"conv_result_scale\\\":1,\\\"activation_mode\\\":\\\"0\\\",\\\"side_input_scale\\\":0}\"\n",
      "2022-10-11 21:16:29.023580: W external/org_tensorflow/tensorflow/compiler/xla/service/gpu/gpu_conv_algorithm_picker.cc:727] None of the algorithms provided by cuDNN heuristics worked; trying fallback algorithms.  Conv: (f32[3,3,64,64]{1,0,2,3}, u8[0]{0}) custom-call(f32[125,32,32,64]{2,1,3,0}, f32[125,32,32,64]{2,1,3,0}), window={size=3x3 pad=1_1x1_1}, dim_labels=b01f_01io->b01f, custom_call_target=\"__cudnn$convBackwardFilter\", backend_config=\"{\\\"conv_result_scale\\\":1,\\\"activation_mode\\\":\\\"0\\\",\\\"side_input_scale\\\":0}\"\n",
      "2022-10-11 21:16:29.250980: W external/org_tensorflow/tensorflow/compiler/xla/service/gpu/gpu_conv_algorithm_picker.cc:727] None of the algorithms provided by cuDNN heuristics worked; trying fallback algorithms.  Conv: (f32[3,3,512,512]{1,0,2,3}, u8[0]{0}) custom-call(f32[125,9,9,512]{2,1,3,0}, f32[125,4,4,512]{2,1,3,0}), window={size=3x3 stride=2x2}, dim_labels=b01f_01io->b01f, custom_call_target=\"__cudnn$convBackwardFilter\", backend_config=\"{\\\"conv_result_scale\\\":1,\\\"activation_mode\\\":\\\"0\\\",\\\"side_input_scale\\\":0}\"\n",
      "2022-10-11 21:16:29.297873: W external/org_tensorflow/tensorflow/compiler/xla/service/gpu/gpu_conv_algorithm_picker.cc:727] None of the algorithms provided by cuDNN heuristics worked; trying fallback algorithms.  Conv: (f32[125,9,9,512]{2,1,3,0}, u8[0]{0}) custom-call(f32[125,4,4,512]{2,1,3,0}, f32[3,3,512,512]{1,0,2,3}), window={size=3x3 stride=2x2}, dim_labels=b01f_01io->b01f, custom_call_target=\"__cudnn$convBackwardInput\", backend_config=\"{\\\"conv_result_scale\\\":1,\\\"activation_mode\\\":\\\"0\\\",\\\"side_input_scale\\\":0}\"\n",
      "2022-10-11 21:16:29.429885: W external/org_tensorflow/tensorflow/compiler/xla/service/gpu/gpu_conv_algorithm_picker.cc:727] None of the algorithms provided by cuDNN heuristics worked; trying fallback algorithms.  Conv: (f32[3,3,256,256]{1,0,2,3}, u8[0]{0}) custom-call(f32[125,17,17,256]{2,1,3,0}, f32[125,8,8,256]{2,1,3,0}), window={size=3x3 stride=2x2}, dim_labels=b01f_01io->b01f, custom_call_target=\"__cudnn$convBackwardFilter\", backend_config=\"{\\\"conv_result_scale\\\":1,\\\"activation_mode\\\":\\\"0\\\",\\\"side_input_scale\\\":0}\"\n",
      "2022-10-11 21:16:43.032859: E external/org_tensorflow/tensorflow/compiler/xla/service/rendezvous.cc:31] This thread has been waiting for 10 seconds and may be stuck:\n",
      "2022-10-11 21:16:47.517314: E external/org_tensorflow/tensorflow/compiler/xla/service/rendezvous.cc:36] Thread is unstuck! Warning above was a false-positive. Perhaps the timeout is too short.\n",
      "100%|██████████| 50/50 [00:41<00:00,  1.21it/s, epoch=1, acc=0.0850, grad_norm=2.0812, loss=4.1331, wd=7627.4023]\n",
      "100%|██████████| 50/50 [00:05<00:00,  8.60it/s, epoch=2, acc=0.1360, grad_norm=2.5887, loss=3.6542, wd=7422.4297]\n",
      "100%|██████████| 50/50 [00:05<00:00,  8.65it/s, epoch=3, acc=0.1950, grad_norm=3.1927, loss=3.3219, wd=7096.4692]\n",
      "100%|██████████| 50/50 [00:05<00:00,  8.69it/s, epoch=4, acc=0.2580, grad_norm=3.4471, loss=2.9266, wd=6680.2422]\n",
      "100%|██████████| 50/50 [00:05<00:00,  8.71it/s, epoch=5, acc=0.3070, grad_norm=3.4181, loss=2.6374, wd=6193.6401]\n",
      "100%|██████████| 50/50 [00:05<00:00,  8.72it/s, epoch=6, acc=0.3890, grad_norm=3.4888, loss=2.3019, wd=5664.9800]\n",
      "100%|██████████| 50/50 [00:05<00:00,  8.79it/s, epoch=7, acc=0.4100, grad_norm=3.4855, loss=2.2123, wd=5133.8145]\n",
      "100%|██████████| 50/50 [00:05<00:00,  8.72it/s, epoch=8, acc=0.4450, grad_norm=3.2178, loss=2.0053, wd=4601.9058]\n",
      "100%|██████████| 50/50 [00:05<00:00,  8.70it/s, epoch=9, acc=0.4780, grad_norm=3.1565, loss=1.8778, wd=4095.5881]\n",
      "100%|██████████| 50/50 [00:05<00:00,  8.70it/s, epoch=10, acc=0.4980, grad_norm=3.1101, loss=1.7961, wd=3638.1951]\n"
     ]
    },
    {
     "name": "stdout",
     "output_type": "stream",
     "text": [
      "Epoch [10] Test Accuracy : 0.4240\n"
     ]
    },
    {
     "name": "stderr",
     "output_type": "stream",
     "text": [
      "100%|██████████| 50/50 [00:05<00:00,  8.74it/s, epoch=11, acc=0.5280, grad_norm=3.0363, loss=1.6954, wd=3240.6299]\n",
      "100%|██████████| 50/50 [00:05<00:00,  8.61it/s, epoch=12, acc=0.5370, grad_norm=3.1269, loss=1.6754, wd=2901.4553]\n",
      "100%|██████████| 50/50 [00:05<00:00,  8.71it/s, epoch=13, acc=0.5690, grad_norm=2.9498, loss=1.5670, wd=2633.4414]\n",
      "100%|██████████| 50/50 [00:05<00:00,  8.72it/s, epoch=14, acc=0.5740, grad_norm=3.1459, loss=1.4864, wd=2423.3037]\n",
      "100%|██████████| 50/50 [00:05<00:00,  8.74it/s, epoch=15, acc=0.5730, grad_norm=3.0691, loss=1.5193, wd=2287.2483]\n",
      "100%|██████████| 50/50 [00:05<00:00,  8.77it/s, epoch=16, acc=0.5800, grad_norm=3.0632, loss=1.5025, wd=2213.5996]\n",
      "100%|██████████| 50/50 [00:05<00:00,  8.72it/s, epoch=17, acc=0.5410, grad_norm=3.6010, loss=1.6283, wd=2197.6150]\n",
      "100%|██████████| 50/50 [00:05<00:00,  8.70it/s, epoch=18, acc=0.5560, grad_norm=3.1396, loss=1.5838, wd=2232.4919]\n",
      "100%|██████████| 50/50 [00:05<00:00,  8.74it/s, epoch=19, acc=0.5170, grad_norm=3.2461, loss=1.7507, wd=2299.6350]\n",
      "100%|██████████| 50/50 [00:05<00:00,  8.72it/s, epoch=20, acc=0.6030, grad_norm=2.7490, loss=1.4570, wd=2490.2832]\n"
     ]
    },
    {
     "name": "stdout",
     "output_type": "stream",
     "text": [
      "Epoch [20] Test Accuracy : 0.4134\n"
     ]
    },
    {
     "name": "stderr",
     "output_type": "stream",
     "text": [
      "100%|██████████| 50/50 [00:05<00:00,  8.73it/s, epoch=21, acc=0.6200, grad_norm=2.7910, loss=1.3860, wd=2372.0701]\n",
      "100%|██████████| 50/50 [00:05<00:00,  8.77it/s, epoch=22, acc=0.5500, grad_norm=3.3068, loss=1.6319, wd=2318.7229]\n",
      "100%|██████████| 50/50 [00:05<00:00,  8.69it/s, epoch=23, acc=0.5480, grad_norm=3.0089, loss=1.5813, wd=2384.0120]\n",
      "100%|██████████| 50/50 [00:05<00:00,  8.67it/s, epoch=24, acc=0.5860, grad_norm=2.7946, loss=1.4978, wd=2407.2158]\n",
      "100%|██████████| 50/50 [00:05<00:00,  8.68it/s, epoch=25, acc=0.5700, grad_norm=2.8976, loss=1.5189, wd=2394.4197]\n",
      "100%|██████████| 50/50 [00:05<00:00,  8.76it/s, epoch=26, acc=0.6280, grad_norm=2.8166, loss=1.3584, wd=2476.2732]\n",
      "100%|██████████| 50/50 [00:05<00:00,  8.72it/s, epoch=27, acc=0.6230, grad_norm=2.9602, loss=1.3487, wd=2412.3499]\n",
      "100%|██████████| 50/50 [00:05<00:00,  8.72it/s, epoch=28, acc=0.6260, grad_norm=3.2075, loss=1.3594, wd=2376.2969]\n",
      "100%|██████████| 50/50 [00:05<00:00,  8.74it/s, epoch=29, acc=0.5980, grad_norm=2.9506, loss=1.4048, wd=2424.7236]\n",
      "100%|██████████| 50/50 [00:05<00:00,  8.75it/s, epoch=30, acc=0.6290, grad_norm=2.9095, loss=1.3030, wd=2429.6394]\n"
     ]
    },
    {
     "name": "stdout",
     "output_type": "stream",
     "text": [
      "Epoch [30] Test Accuracy : 0.4559\n"
     ]
    },
    {
     "name": "stderr",
     "output_type": "stream",
     "text": [
      "100%|██████████| 50/50 [00:05<00:00,  8.72it/s, epoch=31, acc=0.6200, grad_norm=3.0560, loss=1.3005, wd=2429.0156]\n",
      "100%|██████████| 50/50 [00:05<00:00,  8.70it/s, epoch=32, acc=0.6500, grad_norm=2.8924, loss=1.2736, wd=2415.8909]\n",
      "100%|██████████| 50/50 [00:05<00:00,  8.70it/s, epoch=33, acc=0.6350, grad_norm=3.0955, loss=1.3230, wd=2423.2568]\n",
      "100%|██████████| 50/50 [00:05<00:00,  8.73it/s, epoch=34, acc=0.3060, grad_norm=2.6875, loss=2.7729, wd=2940.3535]\n",
      "100%|██████████| 50/50 [00:05<00:00,  8.67it/s, epoch=35, acc=0.5860, grad_norm=2.5528, loss=1.4510, wd=3120.9434]\n",
      "100%|██████████| 50/50 [00:05<00:00,  8.75it/s, epoch=36, acc=0.6200, grad_norm=2.6965, loss=1.3278, wd=2683.0830]\n",
      "100%|██████████| 50/50 [00:05<00:00,  8.77it/s, epoch=37, acc=0.6260, grad_norm=2.7934, loss=1.2831, wd=2496.4492]\n",
      "100%|██████████| 50/50 [00:05<00:00,  8.74it/s, epoch=38, acc=0.6310, grad_norm=2.7528, loss=1.2646, wd=2418.0510]\n",
      "100%|██████████| 50/50 [00:05<00:00,  8.77it/s, epoch=39, acc=0.6240, grad_norm=2.8976, loss=1.3508, wd=2419.5974]\n",
      "100%|██████████| 50/50 [00:05<00:00,  8.77it/s, epoch=40, acc=0.6450, grad_norm=2.8585, loss=1.2507, wd=2392.8025]\n"
     ]
    },
    {
     "name": "stdout",
     "output_type": "stream",
     "text": [
      "Epoch [40] Test Accuracy : 0.4856\n"
     ]
    },
    {
     "name": "stderr",
     "output_type": "stream",
     "text": [
      "100%|██████████| 50/50 [00:05<00:00,  8.73it/s, epoch=41, acc=0.6120, grad_norm=3.2207, loss=1.3513, wd=2400.3030]\n",
      "100%|██████████| 50/50 [00:05<00:00,  8.72it/s, epoch=42, acc=0.6220, grad_norm=3.1158, loss=1.2943, wd=2372.1384]\n",
      "100%|██████████| 50/50 [00:05<00:00,  8.71it/s, epoch=43, acc=0.6090, grad_norm=2.9912, loss=1.3268, wd=2404.9338]\n",
      "100%|██████████| 50/50 [00:05<00:00,  8.75it/s, epoch=44, acc=0.6510, grad_norm=2.8245, loss=1.1893, wd=2417.5039]\n",
      "100%|██████████| 50/50 [00:05<00:00,  8.68it/s, epoch=45, acc=0.6440, grad_norm=3.0425, loss=1.2677, wd=2416.3870]\n",
      "100%|██████████| 50/50 [00:05<00:00,  8.74it/s, epoch=46, acc=0.6600, grad_norm=2.9388, loss=1.1464, wd=2437.4326]\n",
      "100%|██████████| 50/50 [00:05<00:00,  8.75it/s, epoch=47, acc=0.6400, grad_norm=3.0256, loss=1.2910, wd=2423.3340]\n",
      "100%|██████████| 50/50 [00:05<00:00,  8.69it/s, epoch=48, acc=0.6280, grad_norm=3.2863, loss=1.2888, wd=2420.4490]\n",
      "100%|██████████| 50/50 [00:05<00:00,  8.73it/s, epoch=49, acc=0.5420, grad_norm=3.3397, loss=1.6677, wd=2542.9612]\n",
      "100%|██████████| 50/50 [00:05<00:00,  8.75it/s, epoch=50, acc=0.6430, grad_norm=2.9187, loss=1.2640, wd=2622.5569]\n"
     ]
    },
    {
     "name": "stdout",
     "output_type": "stream",
     "text": [
      "Epoch [50] Test Accuracy : 0.5148\n"
     ]
    },
    {
     "name": "stderr",
     "output_type": "stream",
     "text": [
      "100%|██████████| 50/50 [00:05<00:00,  8.76it/s, epoch=51, acc=0.6790, grad_norm=2.8456, loss=1.1525, wd=2472.0002]\n",
      "100%|██████████| 50/50 [00:05<00:00,  8.76it/s, epoch=52, acc=0.6480, grad_norm=3.2374, loss=1.2241, wd=2428.9856]\n",
      "100%|██████████| 50/50 [00:05<00:00,  8.72it/s, epoch=53, acc=0.6460, grad_norm=3.1210, loss=1.2272, wd=2410.0566]\n",
      "100%|██████████| 50/50 [00:05<00:00,  8.73it/s, epoch=54, acc=0.6560, grad_norm=3.1628, loss=1.2257, wd=2430.2754]\n",
      "100%|██████████| 50/50 [00:05<00:00,  8.76it/s, epoch=55, acc=0.6520, grad_norm=3.0505, loss=1.1970, wd=2460.3591]\n",
      "100%|██████████| 50/50 [00:05<00:00,  8.77it/s, epoch=56, acc=0.6850, grad_norm=3.0078, loss=1.0643, wd=2431.6863]\n",
      "100%|██████████| 50/50 [00:05<00:00,  8.71it/s, epoch=57, acc=0.6590, grad_norm=3.0624, loss=1.2048, wd=2444.6028]\n",
      "100%|██████████| 50/50 [00:05<00:00,  8.71it/s, epoch=58, acc=0.6820, grad_norm=3.1255, loss=1.1244, wd=2438.6299]\n",
      "100%|██████████| 50/50 [00:05<00:00,  8.68it/s, epoch=59, acc=0.6570, grad_norm=3.4144, loss=1.2403, wd=2420.8284]\n",
      "100%|██████████| 50/50 [00:05<00:00,  8.69it/s, epoch=60, acc=0.6580, grad_norm=3.1114, loss=1.2061, wd=2450.0938]\n"
     ]
    },
    {
     "name": "stdout",
     "output_type": "stream",
     "text": [
      "Epoch [60] Test Accuracy : 0.4537\n"
     ]
    },
    {
     "name": "stderr",
     "output_type": "stream",
     "text": [
      "100%|██████████| 50/50 [00:05<00:00,  8.79it/s, epoch=61, acc=0.6860, grad_norm=3.0929, loss=1.0997, wd=2456.2969]\n",
      "100%|██████████| 50/50 [00:05<00:00,  8.75it/s, epoch=62, acc=0.6850, grad_norm=3.1053, loss=1.1269, wd=2453.7151]\n",
      "100%|██████████| 50/50 [00:05<00:00,  8.70it/s, epoch=63, acc=0.6210, grad_norm=3.7886, loss=1.3352, wd=2466.9961]\n",
      "100%|██████████| 50/50 [00:05<00:00,  8.76it/s, epoch=64, acc=0.6760, grad_norm=3.0692, loss=1.1158, wd=2479.7297]\n",
      "100%|██████████| 50/50 [00:05<00:00,  8.74it/s, epoch=65, acc=0.6520, grad_norm=3.5958, loss=1.2131, wd=2432.7361]\n",
      "100%|██████████| 50/50 [00:05<00:00,  8.73it/s, epoch=66, acc=0.6910, grad_norm=2.9877, loss=1.0466, wd=2431.6057]\n",
      "100%|██████████| 50/50 [00:05<00:00,  8.76it/s, epoch=67, acc=0.6620, grad_norm=3.4270, loss=1.1331, wd=2429.5361]\n",
      "100%|██████████| 50/50 [00:05<00:00,  8.76it/s, epoch=68, acc=0.6560, grad_norm=3.2458, loss=1.1599, wd=2431.4050]\n",
      "100%|██████████| 50/50 [00:05<00:00,  8.81it/s, epoch=69, acc=0.6870, grad_norm=3.1520, loss=1.0006, wd=2423.2061]\n",
      "100%|██████████| 50/50 [00:05<00:00,  8.76it/s, epoch=70, acc=0.7080, grad_norm=3.1121, loss=1.0697, wd=2426.5999]\n"
     ]
    },
    {
     "name": "stdout",
     "output_type": "stream",
     "text": [
      "Epoch [70] Test Accuracy : 0.5155\n"
     ]
    },
    {
     "name": "stderr",
     "output_type": "stream",
     "text": [
      "100%|██████████| 50/50 [00:05<00:00,  8.72it/s, epoch=71, acc=0.6730, grad_norm=3.2780, loss=1.1088, wd=2495.6895]\n",
      "100%|██████████| 50/50 [00:05<00:00,  8.74it/s, epoch=72, acc=0.7060, grad_norm=3.3194, loss=1.0173, wd=2452.6338]\n",
      "100%|██████████| 50/50 [00:05<00:00,  8.72it/s, epoch=73, acc=0.7240, grad_norm=3.0330, loss=0.9940, wd=2424.4084]\n",
      "100%|██████████| 50/50 [00:05<00:00,  8.78it/s, epoch=74, acc=0.6870, grad_norm=3.3135, loss=1.0540, wd=2401.4055]\n",
      "100%|██████████| 50/50 [00:05<00:00,  8.75it/s, epoch=75, acc=0.6900, grad_norm=3.4883, loss=1.1561, wd=2423.7791]\n",
      "100%|██████████| 50/50 [00:05<00:00,  8.78it/s, epoch=76, acc=0.7080, grad_norm=3.2759, loss=0.9892, wd=2417.0254]\n",
      "100%|██████████| 50/50 [00:05<00:00,  8.76it/s, epoch=77, acc=0.6870, grad_norm=3.5617, loss=1.0651, wd=2405.7625]\n",
      "100%|██████████| 50/50 [00:05<00:00,  8.74it/s, epoch=78, acc=0.6880, grad_norm=3.4917, loss=1.0675, wd=2411.3162]\n",
      "100%|██████████| 50/50 [00:05<00:00,  8.77it/s, epoch=79, acc=0.6900, grad_norm=3.6819, loss=1.0525, wd=2408.0818]\n",
      "100%|██████████| 50/50 [00:05<00:00,  8.77it/s, epoch=80, acc=0.7380, grad_norm=3.4226, loss=0.9250, wd=2418.9163]\n"
     ]
    },
    {
     "name": "stdout",
     "output_type": "stream",
     "text": [
      "Epoch [80] Test Accuracy : 0.5706\n"
     ]
    },
    {
     "name": "stderr",
     "output_type": "stream",
     "text": [
      "100%|██████████| 50/50 [00:05<00:00,  8.72it/s, epoch=81, acc=0.6780, grad_norm=3.3656, loss=1.0647, wd=2405.0627]\n",
      "100%|██████████| 50/50 [00:05<00:00,  8.73it/s, epoch=82, acc=0.6980, grad_norm=3.4323, loss=0.9699, wd=2393.8298]\n",
      "100%|██████████| 50/50 [00:05<00:00,  8.75it/s, epoch=83, acc=0.7170, grad_norm=3.5841, loss=0.9976, wd=2398.3665]\n",
      "100%|██████████| 50/50 [00:05<00:00,  8.77it/s, epoch=84, acc=0.6980, grad_norm=3.4600, loss=1.0299, wd=2398.5588]\n",
      "100%|██████████| 50/50 [00:05<00:00,  8.75it/s, epoch=85, acc=0.7200, grad_norm=3.3136, loss=0.9423, wd=2399.9568]\n",
      "100%|██████████| 50/50 [00:05<00:00,  8.74it/s, epoch=86, acc=0.7210, grad_norm=3.6129, loss=0.9637, wd=2383.0098]\n",
      "100%|██████████| 50/50 [00:05<00:00,  8.77it/s, epoch=87, acc=0.7230, grad_norm=3.4173, loss=0.9488, wd=2371.2783]\n",
      "100%|██████████| 50/50 [00:05<00:00,  8.79it/s, epoch=88, acc=0.7100, grad_norm=3.6584, loss=1.0266, wd=2375.0955]\n",
      "100%|██████████| 50/50 [00:05<00:00,  8.71it/s, epoch=89, acc=0.7110, grad_norm=3.8455, loss=1.0112, wd=2380.4307]\n",
      "100%|██████████| 50/50 [00:05<00:00,  8.67it/s, epoch=90, acc=0.7210, grad_norm=3.5882, loss=0.9355, wd=2386.9795]\n"
     ]
    },
    {
     "name": "stdout",
     "output_type": "stream",
     "text": [
      "Epoch [90] Test Accuracy : 0.5764\n"
     ]
    },
    {
     "name": "stderr",
     "output_type": "stream",
     "text": [
      "100%|██████████| 50/50 [00:05<00:00,  8.74it/s, epoch=91, acc=0.7460, grad_norm=3.5650, loss=0.8813, wd=2380.4456]\n",
      "100%|██████████| 50/50 [00:05<00:00,  8.71it/s, epoch=92, acc=0.7460, grad_norm=3.7259, loss=0.8898, wd=2375.9521]\n",
      "100%|██████████| 50/50 [00:05<00:00,  8.76it/s, epoch=93, acc=0.7300, grad_norm=3.6751, loss=0.8809, wd=2358.3591]\n",
      "100%|██████████| 50/50 [00:05<00:00,  8.71it/s, epoch=94, acc=0.7210, grad_norm=3.7902, loss=0.9758, wd=2361.2639]\n",
      "100%|██████████| 50/50 [00:05<00:00,  8.78it/s, epoch=95, acc=0.7490, grad_norm=3.7917, loss=0.8910, wd=2348.9919]\n",
      "100%|██████████| 50/50 [00:05<00:00,  8.74it/s, epoch=96, acc=0.7570, grad_norm=3.5842, loss=0.8100, wd=2342.9563]\n",
      "100%|██████████| 50/50 [00:05<00:00,  8.73it/s, epoch=97, acc=0.7350, grad_norm=3.8146, loss=0.8802, wd=2338.8772]\n",
      "100%|██████████| 50/50 [00:05<00:00,  8.74it/s, epoch=98, acc=0.7360, grad_norm=3.7332, loss=0.8503, wd=2333.0862]\n",
      "100%|██████████| 50/50 [00:05<00:00,  8.78it/s, epoch=99, acc=0.7650, grad_norm=3.6363, loss=0.8255, wd=2340.1055]\n",
      "100%|██████████| 50/50 [00:05<00:00,  8.75it/s, epoch=100, acc=0.7720, grad_norm=3.7218, loss=0.7769, wd=2330.0759]\n"
     ]
    },
    {
     "name": "stdout",
     "output_type": "stream",
     "text": [
      "Epoch [100] Test Accuracy : 0.5985\n"
     ]
    },
    {
     "name": "stderr",
     "output_type": "stream",
     "text": [
      "100%|██████████| 50/50 [00:05<00:00,  8.64it/s, epoch=101, acc=0.7580, grad_norm=3.8609, loss=0.8228, wd=2330.6511]\n",
      "100%|██████████| 50/50 [00:05<00:00,  8.76it/s, epoch=102, acc=0.7650, grad_norm=3.7272, loss=0.8331, wd=2328.2988]\n",
      "100%|██████████| 50/50 [00:05<00:00,  8.70it/s, epoch=103, acc=0.7690, grad_norm=3.8622, loss=0.7934, wd=2311.1836]\n",
      "100%|██████████| 50/50 [00:05<00:00,  8.76it/s, epoch=104, acc=0.7790, grad_norm=3.8439, loss=0.7729, wd=2307.9260]\n",
      "100%|██████████| 50/50 [00:05<00:00,  8.75it/s, epoch=105, acc=0.7830, grad_norm=3.8399, loss=0.7489, wd=2301.7988]\n",
      "100%|██████████| 50/50 [00:05<00:00,  8.75it/s, epoch=106, acc=0.7620, grad_norm=4.0965, loss=0.8210, wd=2295.5840]\n",
      "100%|██████████| 50/50 [00:05<00:00,  8.76it/s, epoch=107, acc=0.7940, grad_norm=4.0136, loss=0.7201, wd=2281.4275]\n",
      "100%|██████████| 50/50 [00:05<00:00,  8.73it/s, epoch=108, acc=0.7890, grad_norm=4.1018, loss=0.7507, wd=2281.7119]\n",
      "100%|██████████| 50/50 [00:05<00:00,  8.72it/s, epoch=109, acc=0.7990, grad_norm=3.7785, loss=0.6611, wd=2267.1912]\n",
      "100%|██████████| 50/50 [00:05<00:00,  8.68it/s, epoch=110, acc=0.7980, grad_norm=4.0217, loss=0.7225, wd=2254.9587]\n"
     ]
    },
    {
     "name": "stdout",
     "output_type": "stream",
     "text": [
      "Epoch [110] Test Accuracy : 0.5742\n"
     ]
    },
    {
     "name": "stderr",
     "output_type": "stream",
     "text": [
      "100%|██████████| 50/50 [00:05<00:00,  8.72it/s, epoch=111, acc=0.7990, grad_norm=3.9901, loss=0.6769, wd=2250.9727]\n",
      "100%|██████████| 50/50 [00:05<00:00,  8.78it/s, epoch=112, acc=0.8230, grad_norm=4.0248, loss=0.6247, wd=2236.8655]\n",
      "100%|██████████| 50/50 [00:05<00:00,  8.75it/s, epoch=113, acc=0.8030, grad_norm=4.1720, loss=0.6919, wd=2226.8242]\n",
      "100%|██████████| 50/50 [00:05<00:00,  8.76it/s, epoch=114, acc=0.7770, grad_norm=4.6334, loss=0.7520, wd=2218.6428]\n",
      "100%|██████████| 50/50 [00:05<00:00,  8.77it/s, epoch=115, acc=0.7970, grad_norm=4.0643, loss=0.7001, wd=2209.2126]\n",
      "100%|██████████| 50/50 [00:05<00:00,  8.74it/s, epoch=116, acc=0.8420, grad_norm=4.1283, loss=0.6092, wd=2199.1602]\n",
      "100%|██████████| 50/50 [00:05<00:00,  8.74it/s, epoch=117, acc=0.8200, grad_norm=4.1027, loss=0.5817, wd=2187.5544]\n",
      "100%|██████████| 50/50 [00:05<00:00,  8.76it/s, epoch=118, acc=0.8380, grad_norm=4.1322, loss=0.5659, wd=2174.9553]\n",
      "100%|██████████| 50/50 [00:05<00:00,  8.73it/s, epoch=119, acc=0.8070, grad_norm=4.4691, loss=0.6344, wd=2165.4453]\n",
      "100%|██████████| 50/50 [00:05<00:00,  8.84it/s, epoch=120, acc=0.8250, grad_norm=4.4798, loss=0.5940, wd=2150.8623]\n"
     ]
    },
    {
     "name": "stdout",
     "output_type": "stream",
     "text": [
      "Epoch [120] Test Accuracy : 0.5886\n"
     ]
    },
    {
     "name": "stderr",
     "output_type": "stream",
     "text": [
      "100%|██████████| 50/50 [00:05<00:00,  8.74it/s, epoch=121, acc=0.8290, grad_norm=4.2882, loss=0.5549, wd=2140.1008]\n",
      "100%|██████████| 50/50 [00:05<00:00,  8.74it/s, epoch=122, acc=0.8210, grad_norm=4.3783, loss=0.5781, wd=2130.7385]\n",
      "100%|██████████| 50/50 [00:05<00:00,  8.69it/s, epoch=123, acc=0.8210, grad_norm=4.4703, loss=0.5441, wd=2119.5920]\n",
      "100%|██████████| 50/50 [00:05<00:00,  8.78it/s, epoch=124, acc=0.8380, grad_norm=4.5177, loss=0.5345, wd=2104.8398]\n",
      "100%|██████████| 50/50 [00:05<00:00,  8.72it/s, epoch=125, acc=0.8450, grad_norm=4.3197, loss=0.5033, wd=2089.3435]\n",
      "100%|██████████| 50/50 [00:05<00:00,  8.72it/s, epoch=126, acc=0.8360, grad_norm=4.8951, loss=0.5634, wd=2069.6467]\n",
      "100%|██████████| 50/50 [00:05<00:00,  8.77it/s, epoch=127, acc=0.8560, grad_norm=4.5560, loss=0.4873, wd=2063.0725]\n",
      "100%|██████████| 50/50 [00:05<00:00,  8.74it/s, epoch=128, acc=0.8620, grad_norm=4.4383, loss=0.4712, wd=2047.5096]\n",
      "100%|██████████| 50/50 [00:05<00:00,  8.73it/s, epoch=129, acc=0.8670, grad_norm=4.2656, loss=0.4364, wd=2022.2755]\n",
      "100%|██████████| 50/50 [00:05<00:00,  8.70it/s, epoch=130, acc=0.8500, grad_norm=4.7169, loss=0.4888, wd=2000.8348]\n"
     ]
    },
    {
     "name": "stdout",
     "output_type": "stream",
     "text": [
      "Epoch [130] Test Accuracy : 0.6551\n"
     ]
    },
    {
     "name": "stderr",
     "output_type": "stream",
     "text": [
      "100%|██████████| 50/50 [00:05<00:00,  8.75it/s, epoch=131, acc=0.8680, grad_norm=4.6856, loss=0.4484, wd=1984.6798]\n",
      "100%|██████████| 50/50 [00:05<00:00,  8.75it/s, epoch=132, acc=0.8710, grad_norm=4.6706, loss=0.4100, wd=1964.5674]\n",
      "100%|██████████| 50/50 [00:05<00:00,  8.72it/s, epoch=133, acc=0.8740, grad_norm=4.5803, loss=0.4306, wd=1942.6720]\n",
      "100%|██████████| 50/50 [00:05<00:00,  8.78it/s, epoch=134, acc=0.8910, grad_norm=4.3878, loss=0.3873, wd=1928.1349]\n",
      "100%|██████████| 50/50 [00:05<00:00,  8.74it/s, epoch=135, acc=0.8890, grad_norm=4.6272, loss=0.3628, wd=1905.5117]\n",
      "100%|██████████| 50/50 [00:05<00:00,  8.75it/s, epoch=136, acc=0.8810, grad_norm=4.9630, loss=0.4190, wd=1882.2032]\n",
      "100%|██████████| 50/50 [00:05<00:00,  8.79it/s, epoch=137, acc=0.8980, grad_norm=4.5370, loss=0.3440, wd=1861.2303]\n",
      "100%|██████████| 50/50 [00:05<00:00,  8.76it/s, epoch=138, acc=0.9240, grad_norm=4.4304, loss=0.3085, wd=1835.2812]\n",
      "100%|██████████| 50/50 [00:05<00:00,  8.72it/s, epoch=139, acc=0.8950, grad_norm=4.7724, loss=0.3336, wd=1811.0956]\n",
      "100%|██████████| 50/50 [00:05<00:00,  8.72it/s, epoch=140, acc=0.9230, grad_norm=4.3788, loss=0.2748, wd=1788.5948]\n"
     ]
    },
    {
     "name": "stdout",
     "output_type": "stream",
     "text": [
      "Epoch [140] Test Accuracy : 0.6713\n"
     ]
    },
    {
     "name": "stderr",
     "output_type": "stream",
     "text": [
      "100%|██████████| 50/50 [00:05<00:00,  8.71it/s, epoch=141, acc=0.9110, grad_norm=4.5834, loss=0.3026, wd=1764.9901]\n",
      "100%|██████████| 50/50 [00:05<00:00,  8.78it/s, epoch=142, acc=0.9250, grad_norm=4.4765, loss=0.2619, wd=1743.5702]\n",
      "100%|██████████| 50/50 [00:05<00:00,  8.72it/s, epoch=143, acc=0.9210, grad_norm=4.5882, loss=0.2588, wd=1712.0703]\n",
      "100%|██████████| 50/50 [00:05<00:00,  8.74it/s, epoch=144, acc=0.9510, grad_norm=4.0658, loss=0.2032, wd=1678.2970]\n",
      "100%|██████████| 50/50 [00:05<00:00,  8.77it/s, epoch=145, acc=0.9560, grad_norm=4.0859, loss=0.1866, wd=1643.4911]\n",
      "100%|██████████| 50/50 [00:05<00:00,  8.78it/s, epoch=146, acc=0.9350, grad_norm=4.7295, loss=0.2213, wd=1608.3524]\n",
      "100%|██████████| 50/50 [00:05<00:00,  8.75it/s, epoch=147, acc=0.9470, grad_norm=4.1959, loss=0.1979, wd=1576.6876]\n",
      "100%|██████████| 50/50 [00:05<00:00,  8.74it/s, epoch=148, acc=0.9520, grad_norm=4.0173, loss=0.1695, wd=1546.8387]\n",
      "100%|██████████| 50/50 [00:05<00:00,  8.75it/s, epoch=149, acc=0.9610, grad_norm=4.0510, loss=0.1558, wd=1520.0782]\n",
      "100%|██████████| 50/50 [00:05<00:00,  8.72it/s, epoch=150, acc=0.9560, grad_norm=4.1302, loss=0.1558, wd=1491.3397]\n"
     ]
    },
    {
     "name": "stdout",
     "output_type": "stream",
     "text": [
      "Epoch [150] Test Accuracy : 0.6852\n"
     ]
    },
    {
     "name": "stderr",
     "output_type": "stream",
     "text": [
      "100%|██████████| 50/50 [00:05<00:00,  8.69it/s, epoch=151, acc=0.9640, grad_norm=4.2782, loss=0.1477, wd=1460.1172]\n",
      "100%|██████████| 50/50 [00:05<00:00,  8.79it/s, epoch=152, acc=0.9680, grad_norm=3.8857, loss=0.1384, wd=1426.7700]\n",
      "100%|██████████| 50/50 [00:05<00:00,  8.75it/s, epoch=153, acc=0.9760, grad_norm=3.6101, loss=0.1192, wd=1391.9999]\n",
      "100%|██████████| 50/50 [00:05<00:00,  8.70it/s, epoch=154, acc=0.9780, grad_norm=3.5336, loss=0.1012, wd=1357.9990]\n",
      "100%|██████████| 50/50 [00:05<00:00,  8.75it/s, epoch=155, acc=0.9840, grad_norm=3.6519, loss=0.0957, wd=1323.4659]\n",
      "100%|██████████| 50/50 [00:05<00:00,  8.78it/s, epoch=156, acc=0.9830, grad_norm=3.2178, loss=0.0797, wd=1289.0848]\n",
      "100%|██████████| 50/50 [00:05<00:00,  8.76it/s, epoch=157, acc=0.9920, grad_norm=2.5753, loss=0.0624, wd=1255.6691]\n",
      "100%|██████████| 50/50 [00:05<00:00,  8.76it/s, epoch=158, acc=0.9880, grad_norm=3.0237, loss=0.0686, wd=1221.1387]\n",
      "100%|██████████| 50/50 [00:05<00:00,  8.77it/s, epoch=159, acc=0.9910, grad_norm=2.3247, loss=0.0545, wd=1187.7021]\n",
      "100%|██████████| 50/50 [00:05<00:00,  8.69it/s, epoch=160, acc=0.9880, grad_norm=3.3541, loss=0.0641, wd=1155.9940]\n"
     ]
    },
    {
     "name": "stdout",
     "output_type": "stream",
     "text": [
      "Epoch [160] Test Accuracy : 0.7383\n"
     ]
    },
    {
     "name": "stderr",
     "output_type": "stream",
     "text": [
      "100%|██████████| 50/50 [00:05<00:00,  8.78it/s, epoch=161, acc=0.9950, grad_norm=2.5264, loss=0.0464, wd=1124.2750]\n",
      "100%|██████████| 50/50 [00:05<00:00,  8.74it/s, epoch=162, acc=0.9960, grad_norm=2.1595, loss=0.0408, wd=1092.8007]\n",
      "100%|██████████| 50/50 [00:05<00:00,  8.78it/s, epoch=163, acc=0.9980, grad_norm=2.0047, loss=0.0364, wd=1062.9044]\n",
      "100%|██████████| 50/50 [00:05<00:00,  8.74it/s, epoch=164, acc=0.9970, grad_norm=1.9900, loss=0.0364, wd=1034.4305]\n",
      "100%|██████████| 50/50 [00:05<00:00,  8.76it/s, epoch=165, acc=0.9980, grad_norm=1.7719, loss=0.0284, wd=1007.8540]\n",
      "100%|██████████| 50/50 [00:05<00:00,  8.76it/s, epoch=166, acc=0.9990, grad_norm=1.2633, loss=0.0219, wd=982.4913] \n",
      "100%|██████████| 50/50 [00:05<00:00,  8.74it/s, epoch=167, acc=0.9990, grad_norm=1.3675, loss=0.0242, wd=958.3326]\n",
      "100%|██████████| 50/50 [00:05<00:00,  8.76it/s, epoch=168, acc=1.0000, grad_norm=1.2685, loss=0.0210, wd=936.2003]\n",
      "100%|██████████| 50/50 [00:05<00:00,  8.78it/s, epoch=169, acc=1.0000, grad_norm=1.3266, loss=0.0209, wd=915.6855]\n",
      "100%|██████████| 50/50 [00:05<00:00,  8.77it/s, epoch=170, acc=0.9990, grad_norm=1.2296, loss=0.0203, wd=896.9141]\n"
     ]
    },
    {
     "name": "stdout",
     "output_type": "stream",
     "text": [
      "Epoch [170] Test Accuracy : 0.7764\n"
     ]
    },
    {
     "name": "stderr",
     "output_type": "stream",
     "text": [
      "100%|██████████| 50/50 [00:05<00:00,  8.75it/s, epoch=171, acc=0.9980, grad_norm=1.2924, loss=0.0215, wd=879.6777]\n",
      "100%|██████████| 50/50 [00:05<00:00,  8.76it/s, epoch=172, acc=1.0000, grad_norm=0.7400, loss=0.0148, wd=863.8823]\n",
      "100%|██████████| 50/50 [00:05<00:00,  8.72it/s, epoch=173, acc=1.0000, grad_norm=0.9391, loss=0.0172, wd=849.3467]\n",
      "100%|██████████| 50/50 [00:05<00:00,  8.70it/s, epoch=174, acc=0.9970, grad_norm=1.5917, loss=0.0248, wd=835.9980]\n",
      "100%|██████████| 50/50 [00:05<00:00,  8.79it/s, epoch=175, acc=1.0000, grad_norm=0.9937, loss=0.0174, wd=823.7148]\n",
      "100%|██████████| 50/50 [00:05<00:00,  8.71it/s, epoch=176, acc=1.0000, grad_norm=0.9462, loss=0.0163, wd=812.5513]\n",
      "100%|██████████| 50/50 [00:05<00:00,  8.74it/s, epoch=177, acc=0.9990, grad_norm=1.0187, loss=0.0173, wd=802.4038]\n",
      "100%|██████████| 50/50 [00:05<00:00,  8.75it/s, epoch=178, acc=1.0000, grad_norm=0.7495, loss=0.0134, wd=793.2755]\n",
      "100%|██████████| 50/50 [00:05<00:00,  8.78it/s, epoch=179, acc=1.0000, grad_norm=0.7392, loss=0.0148, wd=785.0063]\n",
      "100%|██████████| 50/50 [00:05<00:00,  8.73it/s, epoch=180, acc=1.0000, grad_norm=0.9177, loss=0.0155, wd=777.6201]\n"
     ]
    },
    {
     "name": "stdout",
     "output_type": "stream",
     "text": [
      "Epoch [180] Test Accuracy : 0.7843\n"
     ]
    },
    {
     "name": "stderr",
     "output_type": "stream",
     "text": [
      "100%|██████████| 50/50 [00:05<00:00,  8.72it/s, epoch=181, acc=0.9980, grad_norm=1.3591, loss=0.0213, wd=770.9503]\n",
      "100%|██████████| 50/50 [00:05<00:00,  8.75it/s, epoch=182, acc=0.9990, grad_norm=1.1230, loss=0.0169, wd=764.9864]\n",
      "100%|██████████| 50/50 [00:05<00:00,  8.77it/s, epoch=183, acc=1.0000, grad_norm=0.7929, loss=0.0147, wd=759.6870]\n",
      "100%|██████████| 50/50 [00:05<00:00,  8.78it/s, epoch=184, acc=0.9980, grad_norm=0.8747, loss=0.0167, wd=754.9960]\n",
      "100%|██████████| 50/50 [00:05<00:00,  8.79it/s, epoch=185, acc=0.9990, grad_norm=0.7962, loss=0.0136, wd=750.8746]\n",
      "100%|██████████| 50/50 [00:05<00:00,  8.78it/s, epoch=186, acc=1.0000, grad_norm=0.6604, loss=0.0132, wd=747.2939]\n",
      "100%|██████████| 50/50 [00:05<00:00,  8.73it/s, epoch=187, acc=1.0000, grad_norm=0.7513, loss=0.0136, wd=744.1995]\n",
      "100%|██████████| 50/50 [00:05<00:00,  8.73it/s, epoch=188, acc=1.0000, grad_norm=0.9337, loss=0.0160, wd=741.5704]\n",
      "100%|██████████| 50/50 [00:05<00:00,  8.73it/s, epoch=189, acc=1.0000, grad_norm=0.8480, loss=0.0148, wd=739.3481]\n",
      "100%|██████████| 50/50 [00:05<00:00,  8.69it/s, epoch=190, acc=0.9990, grad_norm=0.9331, loss=0.0150, wd=737.4936]\n"
     ]
    },
    {
     "name": "stdout",
     "output_type": "stream",
     "text": [
      "Epoch [190] Test Accuracy : 0.7878\n"
     ]
    },
    {
     "name": "stderr",
     "output_type": "stream",
     "text": [
      "100%|██████████| 50/50 [00:05<00:00,  8.74it/s, epoch=191, acc=1.0000, grad_norm=0.6899, loss=0.0124, wd=735.9721]\n",
      "100%|██████████| 50/50 [00:05<00:00,  8.73it/s, epoch=192, acc=1.0000, grad_norm=0.9015, loss=0.0145, wd=734.7548]\n",
      "100%|██████████| 50/50 [00:05<00:00,  8.72it/s, epoch=193, acc=1.0000, grad_norm=0.5973, loss=0.0124, wd=733.8046]\n",
      "100%|██████████| 50/50 [00:05<00:00,  8.66it/s, epoch=194, acc=1.0000, grad_norm=0.6910, loss=0.0142, wd=733.0873]\n",
      "100%|██████████| 50/50 [00:05<00:00,  8.78it/s, epoch=195, acc=0.9990, grad_norm=0.9000, loss=0.0162, wd=732.5754]\n",
      "100%|██████████| 50/50 [00:05<00:00,  8.74it/s, epoch=196, acc=1.0000, grad_norm=0.7248, loss=0.0127, wd=732.2319]\n",
      "100%|██████████| 50/50 [00:05<00:00,  8.77it/s, epoch=197, acc=1.0000, grad_norm=0.7311, loss=0.0138, wd=732.0225]\n",
      "100%|██████████| 50/50 [00:05<00:00,  8.77it/s, epoch=198, acc=1.0000, grad_norm=0.7500, loss=0.0134, wd=731.9143]\n",
      "100%|██████████| 50/50 [00:05<00:00,  8.76it/s, epoch=199, acc=1.0000, grad_norm=0.6809, loss=0.0131, wd=731.8738]\n",
      "100%|██████████| 50/50 [00:05<00:00,  8.73it/s, epoch=200, acc=1.0000, grad_norm=0.7777, loss=0.0138, wd=731.8677]\n"
     ]
    },
    {
     "name": "stdout",
     "output_type": "stream",
     "text": [
      "Epoch [200] Test Accuracy : 0.7882\n"
     ]
    }
   ],
   "source": [
    "for epoch in range(1, NUM_EPOCH+1):\n",
    "    \n",
    "    pbar = tqdm(range(NUM_TRAIN // BATCH_SIZE))\n",
    "    for step in pbar:\n",
    "\n",
    "        batch = next(train_dataset)\n",
    "        rng, rng_ = jax.random.split(rng)\n",
    "        log, trainer_replicated = opt_step_pmapped(trainer_replicated, batch, jax.random.split(rng_, num_devices))\n",
    "\n",
    "        res = [('epoch', epoch)]\n",
    "        for k, v in log.items():\n",
    "            res.append((k, f'{np.mean(v):.4f}'))\n",
    "        res = dict(res)\n",
    "        pbar.set_postfix(res)\n",
    "        \n",
    "    if (epoch % 10) == 0:\n",
    "        acc_test = compute_acc_dataset(trainer_replicated, test_dataset)\n",
    "        print(f'Epoch [{epoch}] Test Accuracy : {acc_test:.4f}')"
   ]
  }
 ],
 "metadata": {
  "kernelspec": {
   "display_name": "Python 3.8.10 64-bit",
   "language": "python",
   "name": "python3"
  },
  "language_info": {
   "codemirror_mode": {
    "name": "ipython",
    "version": 3
   },
   "file_extension": ".py",
   "mimetype": "text/x-python",
   "name": "python",
   "nbconvert_exporter": "python",
   "pygments_lexer": "ipython3",
   "version": "3.8.10"
  },
  "orig_nbformat": 4,
  "vscode": {
   "interpreter": {
    "hash": "e7370f93d1d0cde622a1f8e1c04877d8463912d04d973331ad4851f04de6915a"
   }
  }
 },
 "nbformat": 4,
 "nbformat_minor": 2
}

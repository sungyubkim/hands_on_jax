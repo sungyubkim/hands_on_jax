{
 "cells": [
  {
   "cell_type": "code",
   "execution_count": 1,
   "metadata": {},
   "outputs": [
    {
     "name": "stdout",
     "output_type": "stream",
     "text": [
      "# of GPUs : 8\n"
     ]
    },
    {
     "name": "stderr",
     "output_type": "stream",
     "text": [
      "/usr/local/lib/python3.8/dist-packages/chex/_src/pytypes.py:37: FutureWarning: jax.tree_structure is deprecated, and will be removed in a future release. Use jax.tree_util.tree_structure instead.\n",
      "  PyTreeDef = type(jax.tree_structure(None))\n",
      "/usr/lib/python3/dist-packages/requests/__init__.py:89: RequestsDependencyWarning: urllib3 (1.26.12) or chardet (3.0.4) doesn't match a supported version!\n",
      "  warnings.warn(\"urllib3 ({}) or chardet ({}) doesn't match a supported \"\n"
     ]
    }
   ],
   "source": [
    "import jax\n",
    "num_devices = jax.local_device_count()\n",
    "print(f'# of GPUs : {num_devices}')\n",
    "\n",
    "import haiku as hk\n",
    "import optax\n",
    "import numpy as np\n",
    "import jax.numpy as jnp\n",
    "from tqdm import tqdm\n",
    "from functools import partial\n",
    "from itertools import product\n",
    "\n",
    "# we import some helper function/classes\n",
    "import os\n",
    "import sys\n",
    "module_path = os.path.abspath(os.path.join('..'))\n",
    "if module_path not in sys.path:\n",
    "    sys.path.append(module_path)\n",
    "from utils import *\n",
    "from models.resnet import ResNet, Block\n",
    "from datasets.cifar import load_dataset\n",
    "\n",
    "import matplotlib.pyplot as plt\n",
    "import seaborn as sns\n",
    "plt.style.use('ggplot')\n",
    "plt.rcParams['figure.figsize'] = (4, 3)\n",
    "plt.rcParams['xtick.labelsize'] = 8\n",
    "plt.rcParams['ytick.labelsize'] = 8"
   ]
  },
  {
   "cell_type": "code",
   "execution_count": 2,
   "metadata": {},
   "outputs": [
    {
     "name": "stdout",
     "output_type": "stream",
     "text": [
      "input : (1, 32, 32, 3)\n",
      "embedding : (1, 32, 32, 64)\n",
      "block_0_0 : (1, 32, 32, 64)\n",
      "block_0_1 : (1, 32, 32, 64)\n",
      "block_1_0 : (1, 16, 16, 128)\n",
      "block_1_1 : (1, 16, 16, 128)\n",
      "block_2_0 : (1, 8, 8, 256)\n",
      "block_2_1 : (1, 8, 8, 256)\n",
      "block_3_0 : (1, 4, 4, 512)\n",
      "block_3_1 : (1, 4, 4, 512)\n",
      "representation : (1, 512)\n",
      "classifier head : (1, 100)\n"
     ]
    }
   ],
   "source": [
    "NUM_CLASSES = 100\n",
    "NUM_EPOCH = 200\n",
    "NUM_TRAIN = 50000\n",
    "BATCH_SIZE = 1000\n",
    "WARMUP_RATIO = 0.1\n",
    "PEAK_LR = 0.4\n",
    "\n",
    "rng = jax.random.PRNGKey(42)\n",
    "batch = jnp.zeros((1, 32, 32, 3), jnp.float32)\n",
    "net = partial(\n",
    "    ResNet,\n",
    "    name='ResNet_18',\n",
    "    stage_sizes=[2, 2, 2, 2],\n",
    "    num_filters=[64, 128, 256, 512],\n",
    "    strides=[1, 2, 2, 2],\n",
    "    block_cls=Block,\n",
    "    num_classes=NUM_CLASSES,\n",
    ")\n",
    "\n",
    "net = make_forward_with_state(net)\n",
    "params, state = net.init(rng, batch, train=True, print_shape=True)\n",
    "\n",
    "tx = optax.chain(\n",
    "    optax.clip_by_global_norm(1.0),\n",
    "    optax.sgd(learning_rate=create_lr_sched(NUM_EPOCH, NUM_TRAIN, BATCH_SIZE, WARMUP_RATIO, PEAK_LR), momentum=0.9)\n",
    "    )\n",
    "trainer = Trainer.create(\n",
    "    apply_fn=net.apply,\n",
    "    params=params,\n",
    "    state=state,\n",
    "    tx=tx,\n",
    ")"
   ]
  },
  {
   "cell_type": "code",
   "execution_count": 3,
   "metadata": {},
   "outputs": [
    {
     "name": "stdout",
     "output_type": "stream",
     "text": [
      "Recovered Test Accuracy : 0.7883\n"
     ]
    }
   ],
   "source": [
    "trainer = load_ckpt('../3_image_classification/result/cifar100/renset_18', trainer)\n",
    "\n",
    "batch_dims = (num_devices, BATCH_SIZE//num_devices)\n",
    "train_dataset = list(load_dataset(NUM_CLASSES, batch_dims, True, False, False))\n",
    "test_dataset = list(load_dataset(NUM_CLASSES, batch_dims, False, False, False))\n",
    "\n",
    "test_acc = compute_acc_dataset(replicate(trainer), test_dataset)\n",
    "print(f'Recovered Test Accuracy : {test_acc:.4f}')"
   ]
  },
  {
   "cell_type": "code",
   "execution_count": 4,
   "metadata": {},
   "outputs": [],
   "source": [
    "# Modified Lanczos alogrithm of https://github.com/google/spectral-density/blob/master/jax/lanczos.py for recent JAX ver.\n",
    "\n",
    "@jax.pmap\n",
    "def hvp_batch(v, trainer, batch):\n",
    "    vec_params, unravel_fn = params_to_vec(trainer.params, True)\n",
    "        \n",
    "    def loss(params):\n",
    "        logit, state = trainer.apply_fn(params, trainer.state, None, batch['x'], train=True)\n",
    "        log_prob = jax.nn.log_softmax(logit)\n",
    "        return - (log_prob * batch['y']).sum(axis=-1).mean()\n",
    "    \n",
    "    gvp, hvp = jax.jvp(jax.grad(loss), [trainer.params], [unravel_fn(v)])\n",
    "    return params_to_vec(hvp)\n",
    "\n",
    "def hvp(v, trainer, dataset):\n",
    "    res = 0.\n",
    "    for batch in dataset:\n",
    "        res += hvp_batch(replicate(v), trainer, batch).sum(axis=0)\n",
    "    res = res / len(dataset)\n",
    "    return res\n",
    "\n",
    "def lanczos(trainer, dataset, rand_proj_dim=10, seed=42):\n",
    "    \n",
    "    rng = jax.random.PRNGKey(seed)\n",
    "    vec_params, unravel_fn = params_to_vec(unreplicate(trainer).params, True)\n",
    "    \n",
    "    tridiag = jnp.zeros((rand_proj_dim, rand_proj_dim))\n",
    "    vecs = jnp.zeros((rand_proj_dim, len(vec_params)))\n",
    "    \n",
    "    init_vec = jax.random.normal(rng, shape=vec_params.shape)\n",
    "    init_vec = init_vec / jnp.linalg.norm(init_vec)\n",
    "    vecs = vecs.at[0].set(init_vec)\n",
    "    \n",
    "    beta = 0\n",
    "    for i in tqdm(range(rand_proj_dim)):\n",
    "        v = vecs[i, :]\n",
    "        if i == 0:\n",
    "            v_old = 0\n",
    "        else:\n",
    "            v_old = vecs[i -1, :]\n",
    "        \n",
    "        w = hvp(v, trainer, dataset)\n",
    "        w = w - beta * v_old\n",
    "        \n",
    "        alpha = jnp.dot(w, v)\n",
    "        tridiag = tridiag.at[i, i].set(alpha)\n",
    "        w = w - alpha * v\n",
    "        \n",
    "        for j in range(i):\n",
    "            tau = vecs[j, :]\n",
    "            coef = np.dot(w, tau)\n",
    "            w += - coef * tau\n",
    "            \n",
    "        beta = jnp.linalg.norm(w)\n",
    "        \n",
    "        if (i + 1) < rand_proj_dim:\n",
    "            tridiag = tridiag.at[i, i+1].set(beta)\n",
    "            tridiag = tridiag.at[i+1, i].set(beta)\n",
    "            vecs = vecs.at[i+1].set(w/beta)\n",
    "            \n",
    "    return tridiag, vecs"
   ]
  },
  {
   "cell_type": "code",
   "execution_count": 5,
   "metadata": {},
   "outputs": [
    {
     "name": "stderr",
     "output_type": "stream",
     "text": [
      "  0%|          | 0/100 [00:00<?, ?it/s]2022-10-12 17:40:10.341090: W external/org_tensorflow/tensorflow/compiler/xla/service/gpu/gpu_conv_algorithm_picker.cc:727] None of the algorithms provided by cuDNN heuristics worked; trying fallback algorithms.  Conv: (f32[3,3,64,128]{1,0,2,3}, u8[0]{0}) custom-call(f32[125,32,32,64]{2,1,3,0}, f32[125,32,32,128]{2,1,3,0}), window={size=3x3 pad=1_1x1_1}, dim_labels=b01f_01io->b01f, custom_call_target=\"__cudnn$convBackwardFilter\", backend_config=\"{\\\"conv_result_scale\\\":1,\\\"activation_mode\\\":\\\"0\\\",\\\"side_input_scale\\\":0}\"\n",
      "2022-10-12 17:40:10.479174: W external/org_tensorflow/tensorflow/compiler/xla/service/gpu/gpu_conv_algorithm_picker.cc:727] None of the algorithms provided by cuDNN heuristics worked; trying fallback algorithms.  Conv: (f32[3,3,64,64]{1,0,2,3}, u8[0]{0}) custom-call(f32[125,32,32,64]{2,1,3,0}, f32[125,32,32,64]{2,1,3,0}), window={size=3x3 pad=1_1x1_1}, dim_labels=b01f_01io->b01f, custom_call_target=\"__cudnn$convBackwardFilter\", backend_config=\"{\\\"conv_result_scale\\\":1,\\\"activation_mode\\\":\\\"0\\\",\\\"side_input_scale\\\":0}\"\n",
      "2022-10-12 17:40:10.649731: W external/org_tensorflow/tensorflow/compiler/xla/service/gpu/gpu_conv_algorithm_picker.cc:727] None of the algorithms provided by cuDNN heuristics worked; trying fallback algorithms.  Conv: (f32[3,3,512,512]{1,0,2,3}, u8[0]{0}) custom-call(f32[125,9,9,512]{2,1,3,0}, f32[125,4,4,512]{2,1,3,0}), window={size=3x3 stride=2x2}, dim_labels=b01f_01io->b01f, custom_call_target=\"__cudnn$convBackwardFilter\", backend_config=\"{\\\"conv_result_scale\\\":1,\\\"activation_mode\\\":\\\"0\\\",\\\"side_input_scale\\\":0}\"\n",
      "2022-10-12 17:40:10.696886: W external/org_tensorflow/tensorflow/compiler/xla/service/gpu/gpu_conv_algorithm_picker.cc:727] None of the algorithms provided by cuDNN heuristics worked; trying fallback algorithms.  Conv: (f32[125,9,9,512]{2,1,3,0}, u8[0]{0}) custom-call(f32[125,4,4,512]{2,1,3,0}, f32[3,3,512,512]{1,0,2,3}), window={size=3x3 stride=2x2}, dim_labels=b01f_01io->b01f, custom_call_target=\"__cudnn$convBackwardInput\", backend_config=\"{\\\"conv_result_scale\\\":1,\\\"activation_mode\\\":\\\"0\\\",\\\"side_input_scale\\\":0}\"\n",
      "2022-10-12 17:40:10.826295: W external/org_tensorflow/tensorflow/compiler/xla/service/gpu/gpu_conv_algorithm_picker.cc:727] None of the algorithms provided by cuDNN heuristics worked; trying fallback algorithms.  Conv: (f32[3,3,256,256]{1,0,2,3}, u8[0]{0}) custom-call(f32[125,17,17,256]{2,1,3,0}, f32[125,8,8,256]{2,1,3,0}), window={size=3x3 stride=2x2}, dim_labels=b01f_01io->b01f, custom_call_target=\"__cudnn$convBackwardFilter\", backend_config=\"{\\\"conv_result_scale\\\":1,\\\"activation_mode\\\":\\\"0\\\",\\\"side_input_scale\\\":0}\"\n",
      "100%|██████████| 100/100 [58:59<00:00, 35.40s/it]\n"
     ]
    }
   ],
   "source": [
    "tridiag, vecs = lanczos(replicate(trainer), train_dataset, 100)"
   ]
  },
  {
   "cell_type": "code",
   "execution_count": 8,
   "metadata": {},
   "outputs": [
    {
     "data": {
      "image/png": "[encoded data removed]",
      "text/plain": [
       "<Figure size 400x300 with 1 Axes>"
      ]
     },
     "metadata": {},
     "output_type": "display_data"
    }
   ],
   "source": [
    "eigval, eigvec = np.linalg.eigh(tridiag)\n",
    "eigval = np.sort(eigval)\n",
    "sns.histplot(eigval, color='teal', bins=30, kde=True)\n",
    "plt.title('Eispectrum of Hessian')\n",
    "plt.show()"
   ]
  }
 ],
 "metadata": {
  "kernelspec": {
   "display_name": "Python 3.8.10 64-bit",
   "language": "python",
   "name": "python3"
  },
  "language_info": {
   "codemirror_mode": {
    "name": "ipython",
    "version": 3
   },
   "file_extension": ".py",
   "mimetype": "text/x-python",
   "name": "python",
   "nbconvert_exporter": "python",
   "pygments_lexer": "ipython3",
   "version": "3.8.10"
  },
  "orig_nbformat": 4,
  "vscode": {
   "interpreter": {
    "hash": "e7370f93d1d0cde622a1f8e1c04877d8463912d04d973331ad4851f04de6915a"
   }
  }
 },
 "nbformat": 4,
 "nbformat_minor": 2
}

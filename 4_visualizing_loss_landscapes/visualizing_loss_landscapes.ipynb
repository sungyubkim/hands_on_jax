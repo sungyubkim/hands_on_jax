{
 "cells": [
  {
   "cell_type": "code",
   "execution_count": 1,
   "metadata": {},
   "outputs": [
    {
     "name": "stdout",
     "output_type": "stream",
     "text": [
      "# of GPUs : 8\n"
     ]
    },
    {
     "name": "stderr",
     "output_type": "stream",
     "text": [
      "/usr/local/lib/python3.8/dist-packages/chex/_src/pytypes.py:37: FutureWarning: jax.tree_structure is deprecated, and will be removed in a future release. Use jax.tree_util.tree_structure instead.\n",
      "  PyTreeDef = type(jax.tree_structure(None))\n",
      "/usr/lib/python3/dist-packages/requests/__init__.py:89: RequestsDependencyWarning: urllib3 (1.26.12) or chardet (3.0.4) doesn't match a supported version!\n",
      "  warnings.warn(\"urllib3 ({}) or chardet ({}) doesn't match a supported \"\n"
     ]
    }
   ],
   "source": [
    "import jax\n",
    "num_devices = jax.local_device_count()\n",
    "print(f'# of GPUs : {num_devices}')\n",
    "\n",
    "import haiku as hk\n",
    "import optax\n",
    "import numpy as np\n",
    "import jax.numpy as jnp\n",
    "from tqdm import tqdm\n",
    "from functools import partial\n",
    "\n",
    "# we import some helper function/classes\n",
    "import os\n",
    "import sys\n",
    "module_path = os.path.abspath(os.path.join('..'))\n",
    "if module_path not in sys.path:\n",
    "    sys.path.append(module_path)\n",
    "from utils import *\n",
    "from models.resnet import ResNet, Block\n",
    "from datasets.cifar import load_dataset\n",
    "\n",
    "import matplotlib.pyplot as plt\n",
    "plt.style.use('ggplot')\n",
    "plt.rcParams['figure.figsize'] = (4, 3)\n",
    "plt.rcParams['xtick.labelsize'] = 8\n",
    "plt.rcParams['ytick.labelsize'] = 8"
   ]
  },
  {
   "cell_type": "code",
   "execution_count": 2,
   "metadata": {},
   "outputs": [
    {
     "name": "stdout",
     "output_type": "stream",
     "text": [
      "input : (1, 32, 32, 3)\n",
      "embedding : (1, 32, 32, 64)\n",
      "block_0_0 : (1, 32, 32, 64)\n",
      "block_0_1 : (1, 32, 32, 64)\n",
      "block_1_0 : (1, 16, 16, 128)\n",
      "block_1_1 : (1, 16, 16, 128)\n",
      "block_2_0 : (1, 8, 8, 256)\n",
      "block_2_1 : (1, 8, 8, 256)\n",
      "block_3_0 : (1, 4, 4, 512)\n",
      "block_3_1 : (1, 4, 4, 512)\n",
      "representation : (1, 512)\n",
      "classifier head : (1, 100)\n"
     ]
    }
   ],
   "source": [
    "NUM_CLASSES = 100\n",
    "NUM_EPOCH = 200\n",
    "NUM_TRAIN = 50000\n",
    "BATCH_SIZE = 1000\n",
    "WARMUP_RATIO = 0.1\n",
    "PEAK_LR = 0.4\n",
    "\n",
    "rng = jax.random.PRNGKey(42)\n",
    "batch = jnp.zeros((1, 32, 32, 3), jnp.float32)\n",
    "net = partial(\n",
    "    ResNet,\n",
    "    name='ResNet_18',\n",
    "    stage_sizes=[2, 2, 2, 2],\n",
    "    num_filters=[64, 128, 256, 512],\n",
    "    strides=[1, 2, 2, 2],\n",
    "    block_cls=Block,\n",
    "    num_classes=NUM_CLASSES,\n",
    ")\n",
    "\n",
    "net = make_forward_with_state(net)\n",
    "params, state = net.init(rng, batch, train=True, print_shape=True)\n",
    "\n",
    "tx = optax.chain(\n",
    "    optax.clip_by_global_norm(1.0),\n",
    "    optax.sgd(learning_rate=create_lr_sched(NUM_EPOCH, NUM_TRAIN, BATCH_SIZE, WARMUP_RATIO, PEAK_LR), momentum=0.9)\n",
    "    )\n",
    "trainer = Trainer.create(\n",
    "    apply_fn=net.apply,\n",
    "    params=params,\n",
    "    state=state,\n",
    "    tx=tx,\n",
    ")"
   ]
  },
  {
   "cell_type": "code",
   "execution_count": 5,
   "metadata": {},
   "outputs": [
    {
     "name": "stdout",
     "output_type": "stream",
     "text": [
      "Recovered Test Accuracy : 0.7883\n"
     ]
    }
   ],
   "source": [
    "trainer = load_ckpt('../3_image_classification/result/cifar100/renset_18', trainer)\n",
    "\n",
    "batch_dims = (num_devices, BATCH_SIZE//num_devices)\n",
    "train_dataset = load_dataset(NUM_CLASSES, batch_dims)\n",
    "test_dataset = list(load_dataset(NUM_CLASSES, batch_dims, False, False, False))\n",
    "\n",
    "test_acc = compute_acc_dataset(replicate(trainer), test_dataset)\n",
    "print(f'Recovered Test Accuracy : {test_acc:.4f}')"
   ]
  },
  {
   "cell_type": "code",
   "execution_count": null,
   "metadata": {},
   "outputs": [],
   "source": []
  }
 ],
 "metadata": {
  "kernelspec": {
   "display_name": "Python 3 (ipykernel)",
   "language": "python",
   "name": "python3"
  },
  "language_info": {
   "codemirror_mode": {
    "name": "ipython",
    "version": 3
   },
   "file_extension": ".py",
   "mimetype": "text/x-python",
   "name": "python",
   "nbconvert_exporter": "python",
   "pygments_lexer": "ipython3",
   "version": "3.8.10"
  },
  "orig_nbformat": 4
 },
 "nbformat": 4,
 "nbformat_minor": 2
}
